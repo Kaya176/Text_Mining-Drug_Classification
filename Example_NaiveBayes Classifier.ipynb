{
 "cells": [
  {
   "cell_type": "code",
   "execution_count": 1,
   "metadata": {
    "scrolled": true
   },
   "outputs": [
    {
     "name": "stdout",
     "output_type": "stream",
     "text": [
      "  label                                        sms_message\n",
      "0   ham  Go until jurong point, crazy.. Available only ...\n",
      "1   ham                      Ok lar... Joking wif u oni...\n",
      "2  spam  Free entry in 2 a wkly comp to win FA Cup fina...\n",
      "3   ham  U dun say so early hor... U c already then say...\n",
      "4   ham  Nah I don't think he goes to usf, he lives aro...\n"
     ]
    },
    {
     "name": "stderr",
     "output_type": "stream",
     "text": [
      "Skipping line 283: '\t' expected after '\"'\n",
      "Skipping line 617: '\t' expected after '\"'\n",
      "Skipping line 801: '\t' expected after '\"'\n",
      "Skipping line 1421: '\t' expected after '\"'\n",
      "Skipping line 4095: '\t' expected after '\"'\n",
      "Skipping line 4133: '\t' expected after '\"'\n",
      "Skipping line 4227: '\t' expected after '\"'\n",
      "Skipping line 4554: '\t' expected after '\"'\n",
      "Skipping line 4862: '\t' expected after '\"'\n",
      "Skipping line 5082: '\t' expected after '\"'\n"
     ]
    }
   ],
   "source": [
    "import pandas as pd\n",
    "df = pd.read_table(\"C:/Users/pc/Desktop/대학파일/3학년2학기/빅데이터기계학습/과제2번_스팸분류기/smsspamcollection/SMSSpamCollection\",\n",
    "                   sep = \"\\t\",\n",
    "                   header = None,\n",
    "                   names = ['label','sms_message'],\n",
    "                   engine='python',\n",
    "                   error_bad_lines=False,\n",
    "                   encoding = 'utf-8')\n",
    "print(df.head(5))\n",
    "df['label'] = df.label.map({'ham': 0 , 'spam' : 1})"
   ]
  },
  {
   "cell_type": "code",
   "execution_count": 13,
   "metadata": {},
   "outputs": [],
   "source": [
    "#훈련데이터와 테스트 데이터 나누기\n",
    "from sklearn.model_selection import train_test_split\n",
    "Train_set,Test_set = train_test_split(df,random_state = 1)"
   ]
  },
  {
   "cell_type": "code",
   "execution_count": 14,
   "metadata": {},
   "outputs": [
    {
     "data": {
      "text/plain": [
       "(4171, 7403)"
      ]
     },
     "execution_count": 14,
     "metadata": {},
     "output_type": "execute_result"
    }
   ],
   "source": [
    "from sklearn.feature_extraction.text import CountVectorizer\n",
    "count_vector = CountVectorizer()\n",
    "X_train_counts = count_vector.fit_transform(Train_set['sms_message'])\n",
    "X_train_counts.shape"
   ]
  },
  {
   "cell_type": "code",
   "execution_count": 15,
   "metadata": {},
   "outputs": [
    {
     "data": {
      "text/plain": [
       "(4171, 7403)"
      ]
     },
     "execution_count": 15,
     "metadata": {},
     "output_type": "execute_result"
    }
   ],
   "source": [
    "from sklearn.feature_extraction.text import TfidfTransformer\n",
    "tf_transformer = TfidfTransformer(use_idf = False).fit(X_train_counts)\n",
    "X_train_tf = tf_transformer.transform(X_train_counts)\n",
    "X_train_tf.shape"
   ]
  },
  {
   "cell_type": "code",
   "execution_count": 16,
   "metadata": {},
   "outputs": [
    {
     "data": {
      "text/plain": [
       "(4171, 7403)"
      ]
     },
     "execution_count": 16,
     "metadata": {},
     "output_type": "execute_result"
    }
   ],
   "source": [
    "tfidf_transformer = TfidfTransformer()\n",
    "X_train_tfidf = tfidf_transformer.fit_transform(X_train_counts)\n",
    "X_train_tfidf.shape"
   ]
  },
  {
   "cell_type": "code",
   "execution_count": 17,
   "metadata": {},
   "outputs": [],
   "source": [
    "from sklearn.naive_bayes import BernoulliNB\n",
    "ber_clf = BernoulliNB().fit(X_train_tfidf,Train_set['label'])"
   ]
  },
  {
   "cell_type": "code",
   "execution_count": 18,
   "metadata": {},
   "outputs": [
    {
     "data": {
      "text/plain": [
       "0.9748382458662832"
      ]
     },
     "execution_count": 18,
     "metadata": {},
     "output_type": "execute_result"
    }
   ],
   "source": [
    "X_test_counts_B = count_vector.transform(Test_set['sms_message'])\n",
    "X_test_tfidf_B = tfidf_transformer.transform(X_test_counts_B)\n",
    "y_pred_B = ber_clf.predict(X_test_tfidf_B)\n",
    "import numpy as np\n",
    "np.mean(y_pred_B == Test_set['label'])"
   ]
  },
  {
   "cell_type": "code",
   "execution_count": 21,
   "metadata": {},
   "outputs": [
    {
     "name": "stdout",
     "output_type": "stream",
     "text": [
      "  (0, 2815)\t0.4472135954999579\n",
      "  (0, 2305)\t0.4472135954999579\n",
      "  (0, 1614)\t0.4472135954999579\n",
      "  (0, 6416)\t0.4472135954999579\n",
      "  (0, 1426)\t0.4472135954999579\n",
      "  (1, 6654)\t0.4472135954999579\n",
      "  (1, 2228)\t0.4472135954999579\n",
      "  (1, 4229)\t0.4472135954999579\n",
      "  (1, 6194)\t0.4472135954999579\n",
      "  (1, 7088)\t0.4472135954999579\n",
      "  (2, 3717)\t0.17149858514250882\n",
      "  (2, 307)\t0.17149858514250882\n",
      "  (2, 6511)\t0.17149858514250882\n",
      "  (2, 4706)\t0.17149858514250882\n",
      "  (2, 6987)\t0.17149858514250882\n",
      "  (2, 5562)\t0.17149858514250882\n",
      "  (2, 707)\t0.17149858514250882\n",
      "  (2, 6401)\t0.17149858514250882\n",
      "  (2, 6625)\t0.34299717028501764\n",
      "  (2, 4518)\t0.17149858514250882\n",
      "  (2, 6548)\t0.34299717028501764\n",
      "  (2, 2980)\t0.17149858514250882\n",
      "  (2, 7152)\t0.17149858514250882\n",
      "  (2, 1232)\t0.17149858514250882\n",
      "  (2, 4212)\t0.17149858514250882\n",
      "  :\t:\n",
      "  (4169, 5365)\t0.18569533817705186\n",
      "  (4169, 5771)\t0.18569533817705186\n",
      "  (4169, 293)\t0.18569533817705186\n",
      "  (4169, 2729)\t0.18569533817705186\n",
      "  (4169, 3611)\t0.18569533817705186\n",
      "  (4169, 2551)\t0.18569533817705186\n",
      "  (4169, 5449)\t0.18569533817705186\n",
      "  (4169, 3685)\t0.18569533817705186\n",
      "  (4169, 2080)\t0.18569533817705186\n",
      "  (4169, 6629)\t0.18569533817705186\n",
      "  (4169, 3721)\t0.18569533817705186\n",
      "  (4169, 6488)\t0.18569533817705186\n",
      "  (4169, 4747)\t0.18569533817705186\n",
      "  (4169, 4227)\t0.18569533817705186\n",
      "  (4169, 6866)\t0.18569533817705186\n",
      "  (4169, 4415)\t0.18569533817705186\n",
      "  (4169, 4476)\t0.18569533817705186\n",
      "  (4169, 7215)\t0.18569533817705186\n",
      "  (4169, 6625)\t0.18569533817705186\n",
      "  (4169, 1548)\t0.18569533817705186\n",
      "  (4170, 1651)\t0.4472135954999579\n",
      "  (4170, 1545)\t0.4472135954999579\n",
      "  (4170, 4685)\t0.4472135954999579\n",
      "  (4170, 2202)\t0.4472135954999579\n",
      "  (4170, 7364)\t0.4472135954999579\n",
      "  (0, 2815)\t1\n",
      "  (0, 2305)\t1\n",
      "  (0, 1614)\t1\n",
      "  (0, 6416)\t1\n",
      "  (0, 1426)\t1\n",
      "  (1, 6654)\t1\n",
      "  (1, 2228)\t1\n",
      "  (1, 4229)\t1\n",
      "  (1, 6194)\t1\n",
      "  (1, 7088)\t1\n",
      "  (2, 3717)\t1\n",
      "  (2, 307)\t1\n",
      "  (2, 6511)\t1\n",
      "  (2, 4706)\t1\n",
      "  (2, 6987)\t1\n",
      "  (2, 5562)\t1\n",
      "  (2, 707)\t1\n",
      "  (2, 6401)\t1\n",
      "  (2, 6625)\t2\n",
      "  (2, 4518)\t1\n",
      "  (2, 6548)\t2\n",
      "  (2, 2980)\t1\n",
      "  (2, 7152)\t1\n",
      "  (2, 1232)\t1\n",
      "  (2, 4212)\t1\n",
      "  :\t:\n",
      "  (4169, 5365)\t1\n",
      "  (4169, 5771)\t1\n",
      "  (4169, 293)\t1\n",
      "  (4169, 2729)\t1\n",
      "  (4169, 3611)\t1\n",
      "  (4169, 2551)\t1\n",
      "  (4169, 5449)\t1\n",
      "  (4169, 3685)\t1\n",
      "  (4169, 2080)\t1\n",
      "  (4169, 6629)\t1\n",
      "  (4169, 3721)\t1\n",
      "  (4169, 6488)\t1\n",
      "  (4169, 4747)\t1\n",
      "  (4169, 4227)\t1\n",
      "  (4169, 6866)\t1\n",
      "  (4169, 4415)\t1\n",
      "  (4169, 4476)\t1\n",
      "  (4169, 7215)\t1\n",
      "  (4169, 6625)\t1\n",
      "  (4169, 1548)\t1\n",
      "  (4170, 1651)\t1\n",
      "  (4170, 1545)\t1\n",
      "  (4170, 4685)\t1\n",
      "  (4170, 2202)\t1\n",
      "  (4170, 7364)\t1\n"
     ]
    }
   ],
   "source": [
    "#print(X_train_tfidf)\n",
    "print(X_train_tf)\n",
    "print(X_train_counts)"
   ]
  }
 ],
 "metadata": {
  "kernelspec": {
   "display_name": "Python 3",
   "language": "python",
   "name": "python3"
  },
  "language_info": {
   "codemirror_mode": {
    "name": "ipython",
    "version": 3
   },
   "file_extension": ".py",
   "mimetype": "text/x-python",
   "name": "python",
   "nbconvert_exporter": "python",
   "pygments_lexer": "ipython3",
   "version": "3.6.5"
  }
 },
 "nbformat": 4,
 "nbformat_minor": 2
}
