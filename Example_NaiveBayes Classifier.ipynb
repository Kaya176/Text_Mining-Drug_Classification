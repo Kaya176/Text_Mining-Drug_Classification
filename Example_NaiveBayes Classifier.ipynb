{
 "cells": [
  {
   "cell_type": "code",
   "execution_count": 1,
   "metadata": {
    "collapsed": true
   },
   "outputs": [
    {
     "name": "stdout",
     "output_type": "stream",
     "text": [
      "  label                                        sms_message\n",
      "0   ham  Go until jurong point, crazy.. Available only ...\n",
      "1   ham                      Ok lar... Joking wif u oni...\n",
      "2  spam  Free entry in 2 a wkly comp to win FA Cup fina...\n",
      "3   ham  U dun say so early hor... U c already then say...\n",
      "4   ham  Nah I don't think he goes to usf, he lives aro...\n"
     ]
    },
    {
     "name": "stderr",
     "output_type": "stream",
     "text": [
      "Skipping line 283: '\t' expected after '\"'\n",
      "Skipping line 617: '\t' expected after '\"'\n",
      "Skipping line 801: '\t' expected after '\"'\n",
      "Skipping line 1421: '\t' expected after '\"'\n",
      "Skipping line 4095: '\t' expected after '\"'\n",
      "Skipping line 4133: '\t' expected after '\"'\n",
      "Skipping line 4227: '\t' expected after '\"'\n",
      "Skipping line 4554: '\t' expected after '\"'\n",
      "Skipping line 4862: '\t' expected after '\"'\n",
      "Skipping line 5082: '\t' expected after '\"'\n"
     ]
    }
   ],
   "source": [
    "import pandas as pd\n",
    "df = pd.read_table(\"C:/Users/pc/Desktop/대학파일/3학년2학기/빅데이터기계학습/과제2번_스팸분류기/smsspamcollection/SMSSpamCollection\",\n",
    "                   sep = \"\\t\",\n",
    "                   header = None,\n",
    "                   names = ['label','sms_message'],\n",
    "                   engine='python',\n",
    "                   error_bad_lines=False,\n",
    "                   encoding = 'utf-8')\n",
    "print(df.head(5))\n",
    "df['label'] = df.label.map({'ham': 0 , 'spam' : 1})"
   ]
  },
  {
   "cell_type": "code",
   "execution_count": 13,
   "metadata": {},
   "outputs": [],
   "source": [
    "#훈련데이터와 테스트 데이터 나누기\n",
    "from sklearn.model_selection import train_test_split\n",
    "Train_set,Test_set = train_test_split(df,random_state = 1)"
   ]
  },
  {
   "cell_type": "code",
   "execution_count": 14,
   "metadata": {},
   "outputs": [
    {
     "data": {
      "text/plain": [
       "(4171, 7403)"
      ]
     },
     "execution_count": 14,
     "metadata": {},
     "output_type": "execute_result"
    }
   ],
   "source": [
    "from sklearn.feature_extraction.text import CountVectorizer\n",
    "count_vector = CountVectorizer()\n",
    "X_train_counts = count_vector.fit_transform(Train_set['sms_message'])\n",
    "X_train_counts.shape"
   ]
  },
  {
   "cell_type": "code",
   "execution_count": 15,
   "metadata": {},
   "outputs": [
    {
     "data": {
      "text/plain": [
       "(4171, 7403)"
      ]
     },
     "execution_count": 15,
     "metadata": {},
     "output_type": "execute_result"
    }
   ],
   "source": [
    "from sklearn.feature_extraction.text import TfidfTransformer\n",
    "tf_transformer = TfidfTransformer(use_idf = False).fit(X_train_counts)\n",
    "X_train_tf = tf_transformer.transform(X_train_counts)\n",
    "X_train_tf.shape"
   ]
  },
  {
   "cell_type": "code",
   "execution_count": 16,
   "metadata": {},
   "outputs": [
    {
     "data": {
      "text/plain": [
       "(4171, 7403)"
      ]
     },
     "execution_count": 16,
     "metadata": {},
     "output_type": "execute_result"
    }
   ],
   "source": [
    "tfidf_transformer = TfidfTransformer()\n",
    "X_train_tfidf = tfidf_transformer.fit_transform(X_train_counts)\n",
    "X_train_tfidf.shape"
   ]
  },
  {
   "cell_type": "code",
   "execution_count": 17,
   "metadata": {},
   "outputs": [],
   "source": [
    "from sklearn.naive_bayes import BernoulliNB\n",
    "ber_clf = BernoulliNB().fit(X_train_tfidf,Train_set['label'])"
   ]
  },
  {
   "cell_type": "code",
   "execution_count": 18,
   "metadata": {},
   "outputs": [
    {
     "data": {
      "text/plain": [
       "0.9748382458662832"
      ]
     },
     "execution_count": 18,
     "metadata": {},
     "output_type": "execute_result"
    }
   ],
   "source": [
    "X_test_counts_B = count_vector.transform(Test_set['sms_message'])\n",
    "X_test_tfidf_B = tfidf_transformer.transform(X_test_counts_B)\n",
    "y_pred_B = ber_clf.predict(X_test_tfidf_B)\n",
    "import numpy as np\n",
    "np.mean(y_pred_B == Test_set['label'])"
   ]
  },
  {
   "cell_type": "code",
   "execution_count": 19,
   "metadata": {},
   "outputs": [
    {
     "data": {
      "text/plain": [
       "array([[1196,    1],\n",
       "       [  34,  160]], dtype=int64)"
      ]
     },
     "execution_count": 19,
     "metadata": {},
     "output_type": "execute_result"
    }
   ],
   "source": [
    "from sklearn import metrics\n",
    "metrics.confusion_matrix(Test_set['label'], y_pred_B)"
   ]
  }
 ],
 "metadata": {
  "kernelspec": {
   "display_name": "Python 3",
   "language": "python",
   "name": "python3"
  },
  "language_info": {
   "codemirror_mode": {
    "name": "ipython",
    "version": 3
   },
   "file_extension": ".py",
   "mimetype": "text/x-python",
   "name": "python",
   "nbconvert_exporter": "python",
   "pygments_lexer": "ipython3",
   "version": "3.6.5"
  }
 },
 "nbformat": 4,
 "nbformat_minor": 2
}
