{
 "cells": [
  {
   "cell_type": "code",
   "execution_count": 1,
   "metadata": {
    "scrolled": true
   },
   "outputs": [
    {
     "name": "stdout",
     "output_type": "stream",
     "text": [
      "importing Jupyter notebook from myfunc.ipynb\n",
      "importing Jupyter notebook from MyModels.ipynb\n"
     ]
    }
   ],
   "source": [
    "import import_ipynb\n",
    "import myfunc\n",
    "import MyModels\n",
    "import pandas as pd\n",
    "import numpy as np"
   ]
  },
  {
   "cell_type": "code",
   "execution_count": 2,
   "metadata": {},
   "outputs": [],
   "source": [
    "#read data file\n",
    "data = myfunc.read_file(\"data_sample.xlsx\")"
   ]
  },
  {
   "cell_type": "code",
   "execution_count": 3,
   "metadata": {},
   "outputs": [
    {
     "data": {
      "text/plain": [
       "108212"
      ]
     },
     "execution_count": 3,
     "metadata": {},
     "output_type": "execute_result"
    }
   ],
   "source": [
    "len(data)"
   ]
  },
  {
   "cell_type": "code",
   "execution_count": 4,
   "metadata": {
    "scrolled": true
   },
   "outputs": [],
   "source": [
    "#remove_url from text\n",
    "ch1 = myfunc.remove_url(myfunc.split_all_sentence(data[\"Text\"]))"
   ]
  },
  {
   "cell_type": "code",
   "execution_count": 5,
   "metadata": {
    "scrolled": true
   },
   "outputs": [],
   "source": [
    "ch2 = myfunc.change(ch1)"
   ]
  },
  {
   "cell_type": "code",
   "execution_count": 6,
   "metadata": {},
   "outputs": [],
   "source": [
    "new_text = []\n",
    "for test1 in ch2:\n",
    "    s1= []\n",
    "    for test2 in test1.split():\n",
    "        if test2 != \" \":\n",
    "            s1.append(test2)\n",
    "    new_text.append(\" \".join(s1))"
   ]
  },
  {
   "cell_type": "code",
   "execution_count": null,
   "metadata": {},
   "outputs": [],
   "source": [
    "#전체 텍스트를 decompose할때 쓰는 코드\n",
    "new_text1 = myfunc.decompose_text(new_text)\n",
    "new_text2 = myfunc.remove_alpha(new_text1)"
   ]
  },
  {
   "cell_type": "code",
   "execution_count": null,
   "metadata": {},
   "outputs": [],
   "source": []
  },
  {
   "cell_type": "code",
   "execution_count": 7,
   "metadata": {
    "scrolled": true
   },
   "outputs": [],
   "source": [
    "Label = data[\"Label\"]\n",
    "#tester = pd.DataFrame({\"Text\" : new_text,\"Label\" : Label})\n",
    "data1 = pd.DataFrame({\"Text\" : new_text,\"Label\" : Label})"
   ]
  },
  {
   "cell_type": "code",
   "execution_count": 8,
   "metadata": {
    "scrolled": true
   },
   "outputs": [
    {
     "name": "stdout",
     "output_type": "stream",
     "text": [
      "108212\n",
      "99243\n"
     ]
    }
   ],
   "source": [
    "#a = tester.drop_duplicates([\"Text\"],keep = \"last\")\n",
    "data_after = data1.drop_duplicates([\"Text\"],keep = \"last\")\n",
    "print(len(data1))\n",
    "print(len(data_after))\n",
    "#print(len(a))"
   ]
  },
  {
   "cell_type": "code",
   "execution_count": 9,
   "metadata": {},
   "outputs": [],
   "source": [
    "m = data_after[\"Text\"]\n",
    "new_mor = []\n",
    "for text in m:\n",
    "    morpheme = myfunc.kimchi(text)\n",
    "    new_mor.append(\" \".join(morpheme))"
   ]
  },
  {
   "cell_type": "code",
   "execution_count": 10,
   "metadata": {},
   "outputs": [],
   "source": [
    "new_text1 = myfunc.decompose_text(new_mor)\n",
    "new_text2 = myfunc.remove_alpha(new_text1)\n",
    "data2 = pd.DataFrame({\"Text\" : new_text2,\"Label\" : data_after[\"Label\"]})"
   ]
  },
  {
   "cell_type": "code",
   "execution_count": 11,
   "metadata": {
    "scrolled": true
   },
   "outputs": [
    {
     "data": {
      "text/html": [
       "<div>\n",
       "<style scoped>\n",
       "    .dataframe tbody tr th:only-of-type {\n",
       "        vertical-align: middle;\n",
       "    }\n",
       "\n",
       "    .dataframe tbody tr th {\n",
       "        vertical-align: top;\n",
       "    }\n",
       "\n",
       "    .dataframe thead th {\n",
       "        text-align: right;\n",
       "    }\n",
       "</style>\n",
       "<table border=\"1\" class=\"dataframe\">\n",
       "  <thead>\n",
       "    <tr style=\"text-align: right;\">\n",
       "      <th></th>\n",
       "      <th>index</th>\n",
       "      <th>Text</th>\n",
       "      <th>Label</th>\n",
       "    </tr>\n",
       "  </thead>\n",
       "  <tbody>\n",
       "    <tr>\n",
       "      <th>0</th>\n",
       "      <td>1.0</td>\n",
       "      <td>ㅅㅏㄹㅏㅁ ㅁㅗㄹㅡ ㅇㅠㅁㅕㅇ ㅎㅏ ㅇㅣㄹㅂㅗㄴ ㅍㅕㄴㅇㅢㅈㅓㅁ ㅇㅡㅁㅅㅣㄱ ㅇㅣㄹ...</td>\n",
       "      <td>0</td>\n",
       "    </tr>\n",
       "    <tr>\n",
       "      <th>1</th>\n",
       "      <td>2.0</td>\n",
       "      <td>ㅇㅏㅇㅣㅅㅡ ㅇㅗㄹㅏㄱ ㅅㅣㄱㅏㄴ ㅇㅏㅇㅣㅅㅡ ㅇㅗㄹㅏㄱ ㅅㅣㄱㅏㄴ ㅇㅏㅇㅣㅅㅡ ㅇ...</td>\n",
       "      <td>0</td>\n",
       "    </tr>\n",
       "    <tr>\n",
       "      <th>2</th>\n",
       "      <td>3.0</td>\n",
       "      <td>ㅇㅗㄹㅐㅅㅁㅏㄴ ㅇㅏㅇㅣㅅㅡ ㄷㅗㄹㅊㅔ ㄹㅏㄸㅔ ㅁㅏㅅㅇㅣㅆ ㅂㅜㅅㅏㄴㄱㅘㅇㅇㅕㄱㅅㅣ</td>\n",
       "      <td>0</td>\n",
       "    </tr>\n",
       "    <tr>\n",
       "      <th>3</th>\n",
       "      <td>4.0</td>\n",
       "      <td>ㅁㅏㅅㅈㅣㅂ ㅌㅏㅁㅎㅓㅁㄷㅐ ㄴㅗㄹㄹㅏ ㅋㅓㅍㅣ ㅌㅔㄹㅏ ㄴㅏㄹㅆㅣ ㄴㅐㅇㅋㅓㅍㅣ ...</td>\n",
       "      <td>0</td>\n",
       "    </tr>\n",
       "    <tr>\n",
       "      <th>4</th>\n",
       "      <td>5.0</td>\n",
       "      <td>ㄹㅔㄱㅅㅡ ㅇㅏㅇㅣㅅㅡ ㄷㅏㅇㅣㅇㅏ ㄱㅗ ㅈㅠㅇㅓㄹㄹㅣ ㅁㅕㅇㅍㅜㅁ ㅅㅣㄱㅖ ㄱㅡㅁ...</td>\n",
       "      <td>0</td>\n",
       "    </tr>\n",
       "    <tr>\n",
       "      <th>5</th>\n",
       "      <td>6.0</td>\n",
       "      <td>ㅅㅐㅂㅕㄱ ㅂㅣ ㅇㅗ ㅇㅏㅊㅣㅁ ㄷㅚ ㅁㅜㄷㅓㅇㅟ ㅇㅏㅊㅣㅁ ㅇㅏㅇㅏ ㅈㅏㄴ    ...</td>\n",
       "      <td>0</td>\n",
       "    </tr>\n",
       "    <tr>\n",
       "      <th>6</th>\n",
       "      <td>7.0</td>\n",
       "      <td>ㅇㅓㄹㅇㅡㅁ ㅎㅘㄹㅇㅛㅇ ㅂㅓㅂ ㅇㅓㄹㅇㅡㅁ ㅇㅏㅇㅣㅅㅡ ㅅㅐㅇㅎㅘㄹ ㄲㅜㄹ ㅌㅣㅂ...</td>\n",
       "      <td>0</td>\n",
       "    </tr>\n",
       "    <tr>\n",
       "      <th>7</th>\n",
       "      <td>8.0</td>\n",
       "      <td>ㄱㅘㅇㅈㅜ ㄴㅏㅈ ㅎㅏㄴㅡㄹ ㅜㅡㅜ ㅂㅏㅁ ㅂㅜㄴㅇㅟㄱㅣ ㅂㅣㅌㅏ ㅇㅏㅇㅣㅅㅡ ㄹㅗ...</td>\n",
       "      <td>0</td>\n",
       "    </tr>\n",
       "    <tr>\n",
       "      <th>8</th>\n",
       "      <td>9.0</td>\n",
       "      <td>ㅇㅝㄹ ㅈㅜㅊㅏ ㅅㅣㄴㅅㅏㅇ ㅇㅣㅂ ㄷㅚ ㅋㅏㅁㅔㄹㅏ ㅇㅏㄴㄱㅕㅇ ㅃㅏㅇ ㅌㅠㅂㅡ ...</td>\n",
       "      <td>0</td>\n",
       "    </tr>\n",
       "    <tr>\n",
       "      <th>9</th>\n",
       "      <td>10.0</td>\n",
       "      <td>ㅈㅣㅂ ㅇㅣㅆ ㄴㅏㅁㅏㄴ ㅇㅏㅇㅣㅅㅡㅋㅡㄹㅣㅁ ㅈㅔㅈㅗㅂㅓㅂ</td>\n",
       "      <td>0</td>\n",
       "    </tr>\n",
       "    <tr>\n",
       "      <th>10</th>\n",
       "      <td>13.0</td>\n",
       "      <td>ㅇㅏㅇㅣㅅㅡ ㅇㅗㄹㅏㄱ ㅅㅣㄱㅏㄴ ㅇㅏㅇㅣㅅㅡ ㅇㅗㄹㅏㄱ ㅅㅣㄱㅏㄴ ㅅㅗㄴㅂㅏㄷㅏㄱ...</td>\n",
       "      <td>0</td>\n",
       "    </tr>\n",
       "    <tr>\n",
       "      <th>11</th>\n",
       "      <td>15.0</td>\n",
       "      <td>ㅇㅏㅇㅣㅅㅡ ㅇㅗㄹㅏㄱ ㅅㅣㄱㅏㄴ ㅇㅏㅇㅣㅅㅡ ㅇㅗㄹㅏㄱ ㅅㅣㄱㅏㄴ ㄸㅏㄹㅣ</td>\n",
       "      <td>0</td>\n",
       "    </tr>\n",
       "    <tr>\n",
       "      <th>12</th>\n",
       "      <td>16.0</td>\n",
       "      <td>ㅋㅜㄹㄹㅣㅇ ㅆㅓㅁㅁㅓ ㅇㅏㅇㅣㅅㅡ ㅋㅜㄹㄹㅣㅇ ㅅㅣㄹㅣㅈㅡ ㅂㅓㅌㅓ ㅂㅓㅌㅓ ㅅㅑ...</td>\n",
       "      <td>0</td>\n",
       "    </tr>\n",
       "    <tr>\n",
       "      <th>13</th>\n",
       "      <td>17.0</td>\n",
       "      <td>ㅁㅔㄹㅗㄴㅏ ㅁㅔㄹㅗㄴㅏ ㅇㅏㅇㅣㅅㅡ ㅈㅠㅅㅡ</td>\n",
       "      <td>0</td>\n",
       "    </tr>\n",
       "    <tr>\n",
       "      <th>14</th>\n",
       "      <td>18.0</td>\n",
       "      <td>ㅅㅗㄴ ㅈㅏㅇㅠ ㅋㅓㅍㅣ ㅋㅓㅂ ㅋㅓㅂ ㄸㅜㄲㅓㅇ ㅇㅏㅇㅣㅅㅡㅋㅓㅍㅣ ㅋㅓㅂ ㅋㅓㅂ...</td>\n",
       "      <td>0</td>\n",
       "    </tr>\n",
       "    <tr>\n",
       "      <th>15</th>\n",
       "      <td>22.0</td>\n",
       "      <td>ㅁㅐㄱ ㅋㅏㅍㅔ ㅇㅏㅇㅣㅅㅡ ㅋㅑㄹㅏㅁㅔㄹ ㄲㅣ ㅁㅏㅅㅇㅣㅆ ㄷㅡ ㅇㅗㄴㅡㄹ ㅎㅘㅇ...</td>\n",
       "      <td>0</td>\n",
       "    </tr>\n",
       "    <tr>\n",
       "      <th>16</th>\n",
       "      <td>23.0</td>\n",
       "      <td>ㄹㅜ ㅉㅏㅇ ㅌㅡㅇㅟㅅ ㅇㅗㄴㅡㄹ ㅎㅏㄱㅇㅝㄴ ㅅㅜㄹㅗㄱ ㅎㅏ ㅂㅏㅇㅅㅗㅇ ㅅㅣㄱㅏ...</td>\n",
       "      <td>0</td>\n",
       "    </tr>\n",
       "    <tr>\n",
       "      <th>17</th>\n",
       "      <td>24.0</td>\n",
       "      <td>ㅋㅏㅍㅔ ㅋㅏㅍㅔ ㅇㅐㄴㅣㅂㅐㄴㄷㅡ ㅈㅏㅁㅗㅇ ㅂㅣㅌㅏㅁㅣㄴ ㅈㅏㅁㅗㅇ ㅊㅏ ㄸㅏㄸ...</td>\n",
       "      <td>0</td>\n",
       "    </tr>\n",
       "    <tr>\n",
       "      <th>18</th>\n",
       "      <td>25.0</td>\n",
       "      <td>ㅋㅓㅍㅣ ㅍㅡㄹㄹㅐㄴㅌㅡ ㅋㅔㄴㅑ ㅇㅏㅇㅣㅅㅡ ㅎㅗㅇㄷㅐ ㅇㅟㅍㅣ ㅅㅣㄴㅈㅜㅇ ㅋㅓ...</td>\n",
       "      <td>0</td>\n",
       "    </tr>\n",
       "    <tr>\n",
       "      <th>19</th>\n",
       "      <td>26.0</td>\n",
       "      <td>ㅋㅏㅍㅔ ㅍㅕㄴㅇㅢㅈㅓㅁ ㅋㅓㅍㅣ ㅎㅔㅇㅣㅈㅡㄹㄴㅓㅅ ㅈㅗㅎ ㅊㅜㅊㅓㄴㅇㅛ ㅎㅔㅇㅣ...</td>\n",
       "      <td>0</td>\n",
       "    </tr>\n",
       "    <tr>\n",
       "      <th>20</th>\n",
       "      <td>27.0</td>\n",
       "      <td>ㅁㅏㅅㅇㅣㅆ ㅇㅏㅇㅣㅅㅡ ㄸㅏㄹㄱㅣ</td>\n",
       "      <td>0</td>\n",
       "    </tr>\n",
       "    <tr>\n",
       "      <th>21</th>\n",
       "      <td>28.0</td>\n",
       "      <td>ㅇㅝㄴㅅㅑㅅ ㅎㅐㄴㄷㅡ ㄷㅡㄹㅣㅂ ㅇㅏㅇㅣㅅㅡㅋㅓㅍㅣ ㅁㅏㅅㅣ ㅋㅓㅍㅣ ㅇㅏㅇㅣㅅㅡ...</td>\n",
       "      <td>0</td>\n",
       "    </tr>\n",
       "    <tr>\n",
       "      <th>22</th>\n",
       "      <td>30.0</td>\n",
       "      <td>ㅇㅏㅇㅣㅅㅡ ㅂㅓㅋㅣㅅ ㅊㅐㄹㄹㅣㄴㅈㅣ ㅍㅗㅋㅏㄹㅣ ㄱㅘㅇㄱㅗ ㅉㅣㄱ ㅇㅕㄴㅇㅖㅇㅣ...</td>\n",
       "      <td>0</td>\n",
       "    </tr>\n",
       "    <tr>\n",
       "      <th>23</th>\n",
       "      <td>31.0</td>\n",
       "      <td>ㅂㅓㄴㄱㅏ ㅇㅗㄹㅂㅔ ㅇㅏㅇㅣㅅㅡ</td>\n",
       "      <td>0</td>\n",
       "    </tr>\n",
       "    <tr>\n",
       "      <th>24</th>\n",
       "      <td>32.0</td>\n",
       "      <td>ㅅㅣㅇㅝㄴ ㅇㅏㅇㅣㅅㅡㅋㅓㅍㅣ ㅅㅣㅇㅝㄴ ㅇㅏㅇㅣㅅㅡㅋㅓㅍㅣ ㅇㅏㅇㅣㅅㅡㅋㅓㅍㅣ ㅇ...</td>\n",
       "      <td>0</td>\n",
       "    </tr>\n",
       "    <tr>\n",
       "      <th>25</th>\n",
       "      <td>33.0</td>\n",
       "      <td>ㅅㅗㄴ ㅈㅏㅇㅠ ㅋㅓㅍㅣ ㅋㅓㅂ ㅋㅓㅂ ㄸㅜㄲㅓㅇ ㅇㅏㅇㅣㅅㅡㅋㅓㅍㅣ ㅋㅓㅂ ㅋㅓㅂ...</td>\n",
       "      <td>0</td>\n",
       "    </tr>\n",
       "    <tr>\n",
       "      <th>26</th>\n",
       "      <td>34.0</td>\n",
       "      <td>ㅇㅕㄹㅡㅁ ㅇㅏㅇㅣㅅㅡ ㅎㅗㅇㅅㅣ ㅇㅕㄹㅡㅁ ㅇㅏㅇㅣㅅㅡ ㅎㅗㅇㅅㅣ ㅎㅗㅇㅅㅣ ㅇㅏ...</td>\n",
       "      <td>0</td>\n",
       "    </tr>\n",
       "    <tr>\n",
       "      <th>27</th>\n",
       "      <td>36.0</td>\n",
       "      <td>ㅇㅗㄹㅂㅔ ㅇㅏㅇㅣㅅㅡ</td>\n",
       "      <td>0</td>\n",
       "    </tr>\n",
       "    <tr>\n",
       "      <th>28</th>\n",
       "      <td>37.0</td>\n",
       "      <td>ㅇㅏㅇㅣㅅㅡ ㅇㅗㄹㅏㄱ ㅅㅣㄱㅏㄴ ㅇㅏㅇㅣㅅㅡ ㅇㅗㄹㅏㄱ ㅅㅣㄱㅏㄴ ㅅㅣㅈㅏㄱ ㅎㅣ...</td>\n",
       "      <td>0</td>\n",
       "    </tr>\n",
       "    <tr>\n",
       "      <th>29</th>\n",
       "      <td>38.0</td>\n",
       "      <td>ㅅㅣㅇㅝㄴ ㅇㅕㄹㅡㅁ ㅇㅏㅇㅣㅅㅡ ㅇㅏㅁㅔㄹㅣㅋㅏㄴㅗ ㅅㅣㅇㅝㄴ ㅇㅕㄹㅡㅁ ㅇㅏㅇㅣ...</td>\n",
       "      <td>0</td>\n",
       "    </tr>\n",
       "    <tr>\n",
       "      <th>...</th>\n",
       "      <td>...</td>\n",
       "      <td>...</td>\n",
       "      <td>...</td>\n",
       "    </tr>\n",
       "    <tr>\n",
       "      <th>99213</th>\n",
       "      <td>NaN</td>\n",
       "      <td>ㅈㅏㄱㄷㅐㄱㅣ ㅈㅏㄱㄷㅐㄱㅣ ㅍㅏㄴㅁㅐ ㅈㅏㄱㄷㅐㄱㅣ ㄱㅜㅁㅐ ㅈㅏㄱㄷㅐㄱㅣ ㅍㅏㅂ...</td>\n",
       "      <td>1</td>\n",
       "    </tr>\n",
       "    <tr>\n",
       "      <th>99214</th>\n",
       "      <td>NaN</td>\n",
       "      <td>ㅈㅏㄱㄷㅐㄱㅣ ㅈㅏㄱㄷㅐㄱㅣ ㅍㅏㄴㅁㅐ ㅈㅏㄱㄷㅐㄱㅣ ㄱㅜㅁㅐ ㅈㅏㄱㄷㅐㄱㅣ ㅍㅏㅂ...</td>\n",
       "      <td>1</td>\n",
       "    </tr>\n",
       "    <tr>\n",
       "      <th>99215</th>\n",
       "      <td>NaN</td>\n",
       "      <td>ㅈㅓㅇㅍㅜㅁ ㅁㅏㄹㅣㅎㅘㄴㅏ ㅍㅏㄴㅁㅐㅊㅓ ㅇㅏㅇㅣㅅㅡ ㄱㅜㅇㅣㅂ ㅅㅏㅇㅣㅌㅡ ㅈㅏ...</td>\n",
       "      <td>1</td>\n",
       "    </tr>\n",
       "    <tr>\n",
       "      <th>99216</th>\n",
       "      <td>NaN</td>\n",
       "      <td>ㅇㅕㄴㄹㅏㄱ ㅈㅜ ㅅㅏㅇ ㅎㅜ ㅇㅜㅁㅈㅣㄱㅇㅣ ㅇㅣㄹㅂㅏㅇ ㅇㅜㅁㅈㅣㄱㅇㅣ ㅈㅓㅇㅈ...</td>\n",
       "      <td>1</td>\n",
       "    </tr>\n",
       "    <tr>\n",
       "      <th>99217</th>\n",
       "      <td>NaN</td>\n",
       "      <td>ㅇㅕㄴㄹㅏㄱ ㅈㅜ ㅅㅏㅇ ㅎㅜ ㅇㅜㅁㅈㅣㄱㅇㅣ ㅇㅣㄹㅂㅏㅇ ㅇㅜㅁㅈㅣㄱㅇㅣ ㅈㅓㅇㅈ...</td>\n",
       "      <td>1</td>\n",
       "    </tr>\n",
       "    <tr>\n",
       "      <th>99218</th>\n",
       "      <td>NaN</td>\n",
       "      <td>ㅈㅓㅇㅍㅜㅁ ㅁㅏㄹㅣㅎㅘㄴㅏ ㅍㅏㄴㅁㅐㅊㅓ ㅇㅏㅇㅣㅅㅡ ㄱㅜㅇㅣㅂ ㅅㅏㅇㅣㅌㅡ ㅈㅏ...</td>\n",
       "      <td>1</td>\n",
       "    </tr>\n",
       "    <tr>\n",
       "      <th>99219</th>\n",
       "      <td>NaN</td>\n",
       "      <td>ㅇㅕㄴㄹㅏㄱ ㅈㅜ ㅅㅏㅇ ㅎㅜ ㅇㅜㅁㅈㅣㄱㅇㅣ ㅇㅣㄹㅂㅏㅇ ㅇㅜㅁㅈㅣㄱㅇㅣ ㅈㅓㅇㅈ...</td>\n",
       "      <td>1</td>\n",
       "    </tr>\n",
       "    <tr>\n",
       "      <th>99220</th>\n",
       "      <td>NaN</td>\n",
       "      <td>ㅇㅕㄴㄹㅏㄱ ㅈㅜ ㅅㅏㅇ ㅎㅜ ㅇㅜㅁㅈㅣㄱㅇㅣ ㅇㅣㄹㅂㅏㅇ ㅇㅜㅁㅈㅣㄱㅇㅣ ㅈㅓㅇㅈ...</td>\n",
       "      <td>1</td>\n",
       "    </tr>\n",
       "    <tr>\n",
       "      <th>99221</th>\n",
       "      <td>NaN</td>\n",
       "      <td>ㅇㅕㄴㄹㅏㄱ ㅈㅜ ㅅㅏㅇ ㅎㅜ ㅇㅜㅁㅈㅣㄱㅇㅣ ㅇㅣㄹㅂㅏㅇ ㅇㅜㅁㅈㅣㄱㅇㅣ ㅈㅓㅇㅈ...</td>\n",
       "      <td>1</td>\n",
       "    </tr>\n",
       "    <tr>\n",
       "      <th>99222</th>\n",
       "      <td>NaN</td>\n",
       "      <td>ㅇㅕㄴㄹㅏㄱ ㅈㅜ ㅅㅏㅇ ㅎㅜ ㅇㅜㅁㅈㅣㄱㅇㅣ ㅇㅣㄹㅂㅏㅇ ㅇㅜㅁㅈㅣㄱㅇㅣ ㅈㅓㅇㅈ...</td>\n",
       "      <td>1</td>\n",
       "    </tr>\n",
       "    <tr>\n",
       "      <th>99223</th>\n",
       "      <td>NaN</td>\n",
       "      <td>ㅅㅏ ㄱㅓㄹㅇㅡㅁ ㅎㅏ ㅇㅕㄴㄹㅏㄱ ㅈㅜ ㅅㅏㅇ ㅎㅜ ㅇㅜㅁㅈㅣㄱㅇㅣ ㅇㅣㄹㅂㅏㅇ ...</td>\n",
       "      <td>1</td>\n",
       "    </tr>\n",
       "    <tr>\n",
       "      <th>99224</th>\n",
       "      <td>NaN</td>\n",
       "      <td>ㅅㅏ ㄱㅓㄹㅇㅡㅁ ㅎㅏ ㅇㅕㄴㄹㅏㄱ ㅈㅜ ㅅㅏㅇ ㅎㅜ ㅇㅜㅁㅈㅣㄱㅇㅣ ㅇㅣㄹㅂㅏㅇ ...</td>\n",
       "      <td>1</td>\n",
       "    </tr>\n",
       "    <tr>\n",
       "      <th>99225</th>\n",
       "      <td>NaN</td>\n",
       "      <td>ㅎㅣㄹㅗㅃㅗㅇ ㅍㅏㅂ ㅍㅣㄹㄹㅗㅍㅗㄴ ㅍㅏㅂ ㅁㅏㅇㅑㄱ ㅍㅏㅂ ㅍㅣㄹㄹㅗㅍㅗㄴ ㅁㅏ...</td>\n",
       "      <td>1</td>\n",
       "    </tr>\n",
       "    <tr>\n",
       "      <th>99226</th>\n",
       "      <td>NaN</td>\n",
       "      <td>ㅈㅓㅇㅈㅣㄱ ㅅㅣㄴㄹㅚ ㅇㅏㄴㅈㅓㄴ ㄱㅓㄹㅐ ㅂㅗㅈㅏㅇ ㄱㅓㄹㅐ ㄱㅓㄹㅐ ㅌㅡ ㅍㅜ...</td>\n",
       "      <td>1</td>\n",
       "    </tr>\n",
       "    <tr>\n",
       "      <th>99227</th>\n",
       "      <td>NaN</td>\n",
       "      <td>ㅈㅓㅇㅈㅣㄱ ㅅㅣㄴㄹㅚ ㅇㅏㄴㅈㅓㄴ ㄱㅓㄹㅐ ㅂㅗㅈㅏㅇ ㅍㅜㅁㅈㅣㄹ ㅍㅡㄹㅗ ㅂㅗㅈ...</td>\n",
       "      <td>1</td>\n",
       "    </tr>\n",
       "    <tr>\n",
       "      <th>99228</th>\n",
       "      <td>NaN</td>\n",
       "      <td>ㅈㅓㅇㅈㅣㄱ ㅅㅣㄴㄹㅚ ㅇㅏㄴㅈㅓㄴ ㄱㅓㄹㅐ ㅂㅗㅈㅏㅇ ㅍㅜㅁㅈㅣㄹ ㅍㅡㄹㅗ ㅂㅗㅈ...</td>\n",
       "      <td>1</td>\n",
       "    </tr>\n",
       "    <tr>\n",
       "      <th>99229</th>\n",
       "      <td>NaN</td>\n",
       "      <td>ㅌㅔㄹㄹㅔ ㄱㅡㄹㅐㅁ ㅅㅣㄴㄹㅚ ㅁㅣㄷㅇㅡㅁ ㅇㅢㄹㅣ ㅂㅗㅈㅏㅇ ㅈㅓㄴㄱㅜㄱ ㅁㅜㄴ...</td>\n",
       "      <td>1</td>\n",
       "    </tr>\n",
       "    <tr>\n",
       "      <th>99230</th>\n",
       "      <td>NaN</td>\n",
       "      <td>ㅌㅔㄹㄹㅔ ㄱㅡㄹㅐㅁ ㅅㅣㄴㄹㅚ ㅁㅣㄷㅇㅡㅁ ㅇㅢㄹㅣ ㅂㅗㅈㅏㅇ ㅈㅓㄴㄱㅜㄱ ㅁㅜㄴ...</td>\n",
       "      <td>1</td>\n",
       "    </tr>\n",
       "    <tr>\n",
       "      <th>99231</th>\n",
       "      <td>NaN</td>\n",
       "      <td>ㅌㅔㄹㄹㅔ ㄱㅡㄹㅐㅁ ㅅㅣㄴㄹㅚ ㅁㅣㄷㅇㅡㅁ ㅇㅢㄹㅣ ㅂㅗㅈㅏㅇ ㅈㅓㄴㄱㅜㄱ ㅁㅜㄴ...</td>\n",
       "      <td>1</td>\n",
       "    </tr>\n",
       "    <tr>\n",
       "      <th>99232</th>\n",
       "      <td>NaN</td>\n",
       "      <td>ㅌㅔㄹㄹㅔ ㄱㅡㄹㅐㅁ ㅅㅣㄴㄹㅚ ㅁㅣㄷㅇㅡㅁ ㅇㅢㄹㅣ ㅂㅗㅈㅏㅇ ㅊㅜㅅㅓㄱ ㅍㅡㄹㅗ...</td>\n",
       "      <td>1</td>\n",
       "    </tr>\n",
       "    <tr>\n",
       "      <th>99233</th>\n",
       "      <td>NaN</td>\n",
       "      <td>ㅌㅔㄹㄹㅔ ㄱㅡㄹㅐㅁ ㅅㅣㄴㄹㅚ ㅁㅣㄷㅇㅡㅁ ㅇㅢㄹㅣ ㅂㅗㅈㅏㅇ ㅊㅜㅅㅓㄱ ㅍㅡㄹㅗ...</td>\n",
       "      <td>1</td>\n",
       "    </tr>\n",
       "    <tr>\n",
       "      <th>99234</th>\n",
       "      <td>NaN</td>\n",
       "      <td>ㅌㅔㄹㄹㅔ ㅈㅏㄱㄷㅐㄱㅣ ㅇㅏㅇㅣㅅㅡ ㅈㅓㄴㅁㅜㄴ ㅇㅢㄹㅣ</td>\n",
       "      <td>1</td>\n",
       "    </tr>\n",
       "    <tr>\n",
       "      <th>99235</th>\n",
       "      <td>NaN</td>\n",
       "      <td>ㅇㅕㄴㄹㅏㄱ ㅈㅜ ㅅㅏㅇ ㅎㅜ ㅇㅜㅁㅈㅣㄱㅇㅣ ㅇㅣㄹㅂㅏㅇ ㅇㅜㅁㅈㅣㄱㅇㅣ ㅈㅓㅇㅈ...</td>\n",
       "      <td>1</td>\n",
       "    </tr>\n",
       "    <tr>\n",
       "      <th>99236</th>\n",
       "      <td>NaN</td>\n",
       "      <td>ㅈㅓㅇㅈㅣㄱ ㅅㅣㄴㄹㅚ ㅇㅏㄴㅈㅓㄴ ㄱㅓㄹㅐ ㅂㅗㅈㅏㅇ ㅅㅐㅁㅍㅡㄹ ㅊㅟㄱㅡㅂ ㅍㅜ...</td>\n",
       "      <td>1</td>\n",
       "    </tr>\n",
       "    <tr>\n",
       "      <th>99237</th>\n",
       "      <td>NaN</td>\n",
       "      <td>ㅈㅓㄴㄱㅜㄱ ㄷㅏㅇㅇㅣㄹ ㄱㅓㄹㅐ ㅇㅏㄴㅈㅓㄴ ㄱㅓㄹㅐ ㅂㅗㅈㅏㅇ ㅍㅜㅁㅈㅣㄹ ㅊㅚ...</td>\n",
       "      <td>1</td>\n",
       "    </tr>\n",
       "    <tr>\n",
       "      <th>99238</th>\n",
       "      <td>NaN</td>\n",
       "      <td>ㅊㅜㄹㅊㅓ ㅎㅘㄱㅅㅣㄹ ㅍㅜㅁㅈㅣㄹ ㅂㅗㅈㅏㅇ ㅎㅛㄱㅘ ㅈㅗㅎ ㅋㅝㄹㅊㅗㄱㅗㄱㅡㅂ ...</td>\n",
       "      <td>1</td>\n",
       "    </tr>\n",
       "    <tr>\n",
       "      <th>99239</th>\n",
       "      <td>NaN</td>\n",
       "      <td>ㅈㅓㄴㄱㅜㄱ ㄷㅏㅇㅇㅣㄹ ㄱㅓㄹㅐ ㅇㅏㄴㅈㅓㄴ ㄱㅓㄹㅐ ㅂㅗㅈㅏㅇ ㅍㅜㅁㅈㅣㄹ ㅊㅚ...</td>\n",
       "      <td>1</td>\n",
       "    </tr>\n",
       "    <tr>\n",
       "      <th>99240</th>\n",
       "      <td>NaN</td>\n",
       "      <td>ㅈㅓㄴㄱㅜㄱ ㄷㅏㅇㅇㅣㄹ ㄱㅓㄹㅐ ㅇㅏㄴㅈㅓㄴ ㄱㅓㄹㅐ ㅂㅗㅈㅏㅇ ㅍㅜㅁㅈㅣㄹ ㅊㅚ...</td>\n",
       "      <td>1</td>\n",
       "    </tr>\n",
       "    <tr>\n",
       "      <th>99241</th>\n",
       "      <td>NaN</td>\n",
       "      <td>ㅇㅏㅇㅣㅅㅡ ㅍㅏㄴㅁㅐ ㅇㅏㅇㅣㅅㅡ ㅈㅏㄱㄷㅐㄱㅣ ㅈㅏㄱㄷㅐㄱㅣ ㅅㅣㅇㅝㄴ ㅅㅜㄹ ...</td>\n",
       "      <td>1</td>\n",
       "    </tr>\n",
       "    <tr>\n",
       "      <th>99242</th>\n",
       "      <td>NaN</td>\n",
       "      <td>ㅈㅓㅇㅈㅣㄱ ㅅㅣㄴㄹㅚ ㅇㅏㄴㅈㅓㄴ ㄱㅓㄹㅐ ㅂㅗㅈㅏㅇ ㄱㅓㄹㅐ ㄱㅓㄹㅐ ㅌㅡ ㅍㅜ...</td>\n",
       "      <td>1</td>\n",
       "    </tr>\n",
       "  </tbody>\n",
       "</table>\n",
       "<p>99243 rows × 3 columns</p>\n",
       "</div>"
      ],
      "text/plain": [
       "       index                                               Text  Label\n",
       "0        1.0  ㅅㅏㄹㅏㅁ ㅁㅗㄹㅡ ㅇㅠㅁㅕㅇ ㅎㅏ ㅇㅣㄹㅂㅗㄴ ㅍㅕㄴㅇㅢㅈㅓㅁ ㅇㅡㅁㅅㅣㄱ ㅇㅣㄹ...      0\n",
       "1        2.0  ㅇㅏㅇㅣㅅㅡ ㅇㅗㄹㅏㄱ ㅅㅣㄱㅏㄴ ㅇㅏㅇㅣㅅㅡ ㅇㅗㄹㅏㄱ ㅅㅣㄱㅏㄴ ㅇㅏㅇㅣㅅㅡ ㅇ...      0\n",
       "2        3.0    ㅇㅗㄹㅐㅅㅁㅏㄴ ㅇㅏㅇㅣㅅㅡ ㄷㅗㄹㅊㅔ ㄹㅏㄸㅔ ㅁㅏㅅㅇㅣㅆ ㅂㅜㅅㅏㄴㄱㅘㅇㅇㅕㄱㅅㅣ      0\n",
       "3        4.0  ㅁㅏㅅㅈㅣㅂ ㅌㅏㅁㅎㅓㅁㄷㅐ ㄴㅗㄹㄹㅏ ㅋㅓㅍㅣ ㅌㅔㄹㅏ ㄴㅏㄹㅆㅣ ㄴㅐㅇㅋㅓㅍㅣ ...      0\n",
       "4        5.0  ㄹㅔㄱㅅㅡ ㅇㅏㅇㅣㅅㅡ ㄷㅏㅇㅣㅇㅏ ㄱㅗ ㅈㅠㅇㅓㄹㄹㅣ ㅁㅕㅇㅍㅜㅁ ㅅㅣㄱㅖ ㄱㅡㅁ...      0\n",
       "5        6.0  ㅅㅐㅂㅕㄱ ㅂㅣ ㅇㅗ ㅇㅏㅊㅣㅁ ㄷㅚ ㅁㅜㄷㅓㅇㅟ ㅇㅏㅊㅣㅁ ㅇㅏㅇㅏ ㅈㅏㄴ    ...      0\n",
       "6        7.0  ㅇㅓㄹㅇㅡㅁ ㅎㅘㄹㅇㅛㅇ ㅂㅓㅂ ㅇㅓㄹㅇㅡㅁ ㅇㅏㅇㅣㅅㅡ ㅅㅐㅇㅎㅘㄹ ㄲㅜㄹ ㅌㅣㅂ...      0\n",
       "7        8.0  ㄱㅘㅇㅈㅜ ㄴㅏㅈ ㅎㅏㄴㅡㄹ ㅜㅡㅜ ㅂㅏㅁ ㅂㅜㄴㅇㅟㄱㅣ ㅂㅣㅌㅏ ㅇㅏㅇㅣㅅㅡ ㄹㅗ...      0\n",
       "8        9.0  ㅇㅝㄹ ㅈㅜㅊㅏ ㅅㅣㄴㅅㅏㅇ ㅇㅣㅂ ㄷㅚ ㅋㅏㅁㅔㄹㅏ ㅇㅏㄴㄱㅕㅇ ㅃㅏㅇ ㅌㅠㅂㅡ ...      0\n",
       "9       10.0                  ㅈㅣㅂ ㅇㅣㅆ ㄴㅏㅁㅏㄴ ㅇㅏㅇㅣㅅㅡㅋㅡㄹㅣㅁ ㅈㅔㅈㅗㅂㅓㅂ      0\n",
       "10      13.0  ㅇㅏㅇㅣㅅㅡ ㅇㅗㄹㅏㄱ ㅅㅣㄱㅏㄴ ㅇㅏㅇㅣㅅㅡ ㅇㅗㄹㅏㄱ ㅅㅣㄱㅏㄴ ㅅㅗㄴㅂㅏㄷㅏㄱ...      0\n",
       "11      15.0         ㅇㅏㅇㅣㅅㅡ ㅇㅗㄹㅏㄱ ㅅㅣㄱㅏㄴ ㅇㅏㅇㅣㅅㅡ ㅇㅗㄹㅏㄱ ㅅㅣㄱㅏㄴ ㄸㅏㄹㅣ      0\n",
       "12      16.0  ㅋㅜㄹㄹㅣㅇ ㅆㅓㅁㅁㅓ ㅇㅏㅇㅣㅅㅡ ㅋㅜㄹㄹㅣㅇ ㅅㅣㄹㅣㅈㅡ ㅂㅓㅌㅓ ㅂㅓㅌㅓ ㅅㅑ...      0\n",
       "13      17.0                          ㅁㅔㄹㅗㄴㅏ ㅁㅔㄹㅗㄴㅏ ㅇㅏㅇㅣㅅㅡ ㅈㅠㅅㅡ      0\n",
       "14      18.0  ㅅㅗㄴ ㅈㅏㅇㅠ ㅋㅓㅍㅣ ㅋㅓㅂ ㅋㅓㅂ ㄸㅜㄲㅓㅇ ㅇㅏㅇㅣㅅㅡㅋㅓㅍㅣ ㅋㅓㅂ ㅋㅓㅂ...      0\n",
       "15      22.0  ㅁㅐㄱ ㅋㅏㅍㅔ ㅇㅏㅇㅣㅅㅡ ㅋㅑㄹㅏㅁㅔㄹ ㄲㅣ ㅁㅏㅅㅇㅣㅆ ㄷㅡ ㅇㅗㄴㅡㄹ ㅎㅘㅇ...      0\n",
       "16      23.0  ㄹㅜ ㅉㅏㅇ ㅌㅡㅇㅟㅅ ㅇㅗㄴㅡㄹ ㅎㅏㄱㅇㅝㄴ ㅅㅜㄹㅗㄱ ㅎㅏ ㅂㅏㅇㅅㅗㅇ ㅅㅣㄱㅏ...      0\n",
       "17      24.0  ㅋㅏㅍㅔ ㅋㅏㅍㅔ ㅇㅐㄴㅣㅂㅐㄴㄷㅡ ㅈㅏㅁㅗㅇ ㅂㅣㅌㅏㅁㅣㄴ ㅈㅏㅁㅗㅇ ㅊㅏ ㄸㅏㄸ...      0\n",
       "18      25.0  ㅋㅓㅍㅣ ㅍㅡㄹㄹㅐㄴㅌㅡ ㅋㅔㄴㅑ ㅇㅏㅇㅣㅅㅡ ㅎㅗㅇㄷㅐ ㅇㅟㅍㅣ ㅅㅣㄴㅈㅜㅇ ㅋㅓ...      0\n",
       "19      26.0  ㅋㅏㅍㅔ ㅍㅕㄴㅇㅢㅈㅓㅁ ㅋㅓㅍㅣ ㅎㅔㅇㅣㅈㅡㄹㄴㅓㅅ ㅈㅗㅎ ㅊㅜㅊㅓㄴㅇㅛ ㅎㅔㅇㅣ...      0\n",
       "20      27.0                                ㅁㅏㅅㅇㅣㅆ ㅇㅏㅇㅣㅅㅡ ㄸㅏㄹㄱㅣ      0\n",
       "21      28.0  ㅇㅝㄴㅅㅑㅅ ㅎㅐㄴㄷㅡ ㄷㅡㄹㅣㅂ ㅇㅏㅇㅣㅅㅡㅋㅓㅍㅣ ㅁㅏㅅㅣ ㅋㅓㅍㅣ ㅇㅏㅇㅣㅅㅡ...      0\n",
       "22      30.0  ㅇㅏㅇㅣㅅㅡ ㅂㅓㅋㅣㅅ ㅊㅐㄹㄹㅣㄴㅈㅣ ㅍㅗㅋㅏㄹㅣ ㄱㅘㅇㄱㅗ ㅉㅣㄱ ㅇㅕㄴㅇㅖㅇㅣ...      0\n",
       "23      31.0                                 ㅂㅓㄴㄱㅏ ㅇㅗㄹㅂㅔ ㅇㅏㅇㅣㅅㅡ      0\n",
       "24      32.0  ㅅㅣㅇㅝㄴ ㅇㅏㅇㅣㅅㅡㅋㅓㅍㅣ ㅅㅣㅇㅝㄴ ㅇㅏㅇㅣㅅㅡㅋㅓㅍㅣ ㅇㅏㅇㅣㅅㅡㅋㅓㅍㅣ ㅇ...      0\n",
       "25      33.0  ㅅㅗㄴ ㅈㅏㅇㅠ ㅋㅓㅍㅣ ㅋㅓㅂ ㅋㅓㅂ ㄸㅜㄲㅓㅇ ㅇㅏㅇㅣㅅㅡㅋㅓㅍㅣ ㅋㅓㅂ ㅋㅓㅂ...      0\n",
       "26      34.0  ㅇㅕㄹㅡㅁ ㅇㅏㅇㅣㅅㅡ ㅎㅗㅇㅅㅣ ㅇㅕㄹㅡㅁ ㅇㅏㅇㅣㅅㅡ ㅎㅗㅇㅅㅣ ㅎㅗㅇㅅㅣ ㅇㅏ...      0\n",
       "27      36.0                                       ㅇㅗㄹㅂㅔ ㅇㅏㅇㅣㅅㅡ      0\n",
       "28      37.0  ㅇㅏㅇㅣㅅㅡ ㅇㅗㄹㅏㄱ ㅅㅣㄱㅏㄴ ㅇㅏㅇㅣㅅㅡ ㅇㅗㄹㅏㄱ ㅅㅣㄱㅏㄴ ㅅㅣㅈㅏㄱ ㅎㅣ...      0\n",
       "29      38.0  ㅅㅣㅇㅝㄴ ㅇㅕㄹㅡㅁ ㅇㅏㅇㅣㅅㅡ ㅇㅏㅁㅔㄹㅣㅋㅏㄴㅗ ㅅㅣㅇㅝㄴ ㅇㅕㄹㅡㅁ ㅇㅏㅇㅣ...      0\n",
       "...      ...                                                ...    ...\n",
       "99213    NaN  ㅈㅏㄱㄷㅐㄱㅣ ㅈㅏㄱㄷㅐㄱㅣ ㅍㅏㄴㅁㅐ ㅈㅏㄱㄷㅐㄱㅣ ㄱㅜㅁㅐ ㅈㅏㄱㄷㅐㄱㅣ ㅍㅏㅂ...      1\n",
       "99214    NaN  ㅈㅏㄱㄷㅐㄱㅣ ㅈㅏㄱㄷㅐㄱㅣ ㅍㅏㄴㅁㅐ ㅈㅏㄱㄷㅐㄱㅣ ㄱㅜㅁㅐ ㅈㅏㄱㄷㅐㄱㅣ ㅍㅏㅂ...      1\n",
       "99215    NaN  ㅈㅓㅇㅍㅜㅁ ㅁㅏㄹㅣㅎㅘㄴㅏ ㅍㅏㄴㅁㅐㅊㅓ ㅇㅏㅇㅣㅅㅡ ㄱㅜㅇㅣㅂ ㅅㅏㅇㅣㅌㅡ ㅈㅏ...      1\n",
       "99216    NaN  ㅇㅕㄴㄹㅏㄱ ㅈㅜ ㅅㅏㅇ ㅎㅜ ㅇㅜㅁㅈㅣㄱㅇㅣ ㅇㅣㄹㅂㅏㅇ ㅇㅜㅁㅈㅣㄱㅇㅣ ㅈㅓㅇㅈ...      1\n",
       "99217    NaN  ㅇㅕㄴㄹㅏㄱ ㅈㅜ ㅅㅏㅇ ㅎㅜ ㅇㅜㅁㅈㅣㄱㅇㅣ ㅇㅣㄹㅂㅏㅇ ㅇㅜㅁㅈㅣㄱㅇㅣ ㅈㅓㅇㅈ...      1\n",
       "99218    NaN  ㅈㅓㅇㅍㅜㅁ ㅁㅏㄹㅣㅎㅘㄴㅏ ㅍㅏㄴㅁㅐㅊㅓ ㅇㅏㅇㅣㅅㅡ ㄱㅜㅇㅣㅂ ㅅㅏㅇㅣㅌㅡ ㅈㅏ...      1\n",
       "99219    NaN  ㅇㅕㄴㄹㅏㄱ ㅈㅜ ㅅㅏㅇ ㅎㅜ ㅇㅜㅁㅈㅣㄱㅇㅣ ㅇㅣㄹㅂㅏㅇ ㅇㅜㅁㅈㅣㄱㅇㅣ ㅈㅓㅇㅈ...      1\n",
       "99220    NaN  ㅇㅕㄴㄹㅏㄱ ㅈㅜ ㅅㅏㅇ ㅎㅜ ㅇㅜㅁㅈㅣㄱㅇㅣ ㅇㅣㄹㅂㅏㅇ ㅇㅜㅁㅈㅣㄱㅇㅣ ㅈㅓㅇㅈ...      1\n",
       "99221    NaN  ㅇㅕㄴㄹㅏㄱ ㅈㅜ ㅅㅏㅇ ㅎㅜ ㅇㅜㅁㅈㅣㄱㅇㅣ ㅇㅣㄹㅂㅏㅇ ㅇㅜㅁㅈㅣㄱㅇㅣ ㅈㅓㅇㅈ...      1\n",
       "99222    NaN  ㅇㅕㄴㄹㅏㄱ ㅈㅜ ㅅㅏㅇ ㅎㅜ ㅇㅜㅁㅈㅣㄱㅇㅣ ㅇㅣㄹㅂㅏㅇ ㅇㅜㅁㅈㅣㄱㅇㅣ ㅈㅓㅇㅈ...      1\n",
       "99223    NaN  ㅅㅏ ㄱㅓㄹㅇㅡㅁ ㅎㅏ ㅇㅕㄴㄹㅏㄱ ㅈㅜ ㅅㅏㅇ ㅎㅜ ㅇㅜㅁㅈㅣㄱㅇㅣ ㅇㅣㄹㅂㅏㅇ ...      1\n",
       "99224    NaN  ㅅㅏ ㄱㅓㄹㅇㅡㅁ ㅎㅏ ㅇㅕㄴㄹㅏㄱ ㅈㅜ ㅅㅏㅇ ㅎㅜ ㅇㅜㅁㅈㅣㄱㅇㅣ ㅇㅣㄹㅂㅏㅇ ...      1\n",
       "99225    NaN  ㅎㅣㄹㅗㅃㅗㅇ ㅍㅏㅂ ㅍㅣㄹㄹㅗㅍㅗㄴ ㅍㅏㅂ ㅁㅏㅇㅑㄱ ㅍㅏㅂ ㅍㅣㄹㄹㅗㅍㅗㄴ ㅁㅏ...      1\n",
       "99226    NaN  ㅈㅓㅇㅈㅣㄱ ㅅㅣㄴㄹㅚ ㅇㅏㄴㅈㅓㄴ ㄱㅓㄹㅐ ㅂㅗㅈㅏㅇ ㄱㅓㄹㅐ ㄱㅓㄹㅐ ㅌㅡ ㅍㅜ...      1\n",
       "99227    NaN  ㅈㅓㅇㅈㅣㄱ ㅅㅣㄴㄹㅚ ㅇㅏㄴㅈㅓㄴ ㄱㅓㄹㅐ ㅂㅗㅈㅏㅇ ㅍㅜㅁㅈㅣㄹ ㅍㅡㄹㅗ ㅂㅗㅈ...      1\n",
       "99228    NaN  ㅈㅓㅇㅈㅣㄱ ㅅㅣㄴㄹㅚ ㅇㅏㄴㅈㅓㄴ ㄱㅓㄹㅐ ㅂㅗㅈㅏㅇ ㅍㅜㅁㅈㅣㄹ ㅍㅡㄹㅗ ㅂㅗㅈ...      1\n",
       "99229    NaN  ㅌㅔㄹㄹㅔ ㄱㅡㄹㅐㅁ ㅅㅣㄴㄹㅚ ㅁㅣㄷㅇㅡㅁ ㅇㅢㄹㅣ ㅂㅗㅈㅏㅇ ㅈㅓㄴㄱㅜㄱ ㅁㅜㄴ...      1\n",
       "99230    NaN  ㅌㅔㄹㄹㅔ ㄱㅡㄹㅐㅁ ㅅㅣㄴㄹㅚ ㅁㅣㄷㅇㅡㅁ ㅇㅢㄹㅣ ㅂㅗㅈㅏㅇ ㅈㅓㄴㄱㅜㄱ ㅁㅜㄴ...      1\n",
       "99231    NaN  ㅌㅔㄹㄹㅔ ㄱㅡㄹㅐㅁ ㅅㅣㄴㄹㅚ ㅁㅣㄷㅇㅡㅁ ㅇㅢㄹㅣ ㅂㅗㅈㅏㅇ ㅈㅓㄴㄱㅜㄱ ㅁㅜㄴ...      1\n",
       "99232    NaN  ㅌㅔㄹㄹㅔ ㄱㅡㄹㅐㅁ ㅅㅣㄴㄹㅚ ㅁㅣㄷㅇㅡㅁ ㅇㅢㄹㅣ ㅂㅗㅈㅏㅇ ㅊㅜㅅㅓㄱ ㅍㅡㄹㅗ...      1\n",
       "99233    NaN  ㅌㅔㄹㄹㅔ ㄱㅡㄹㅐㅁ ㅅㅣㄴㄹㅚ ㅁㅣㄷㅇㅡㅁ ㅇㅢㄹㅣ ㅂㅗㅈㅏㅇ ㅊㅜㅅㅓㄱ ㅍㅡㄹㅗ...      1\n",
       "99234    NaN                   ㅌㅔㄹㄹㅔ ㅈㅏㄱㄷㅐㄱㅣ ㅇㅏㅇㅣㅅㅡ ㅈㅓㄴㅁㅜㄴ ㅇㅢㄹㅣ      1\n",
       "99235    NaN  ㅇㅕㄴㄹㅏㄱ ㅈㅜ ㅅㅏㅇ ㅎㅜ ㅇㅜㅁㅈㅣㄱㅇㅣ ㅇㅣㄹㅂㅏㅇ ㅇㅜㅁㅈㅣㄱㅇㅣ ㅈㅓㅇㅈ...      1\n",
       "99236    NaN  ㅈㅓㅇㅈㅣㄱ ㅅㅣㄴㄹㅚ ㅇㅏㄴㅈㅓㄴ ㄱㅓㄹㅐ ㅂㅗㅈㅏㅇ ㅅㅐㅁㅍㅡㄹ ㅊㅟㄱㅡㅂ ㅍㅜ...      1\n",
       "99237    NaN  ㅈㅓㄴㄱㅜㄱ ㄷㅏㅇㅇㅣㄹ ㄱㅓㄹㅐ ㅇㅏㄴㅈㅓㄴ ㄱㅓㄹㅐ ㅂㅗㅈㅏㅇ ㅍㅜㅁㅈㅣㄹ ㅊㅚ...      1\n",
       "99238    NaN  ㅊㅜㄹㅊㅓ ㅎㅘㄱㅅㅣㄹ ㅍㅜㅁㅈㅣㄹ ㅂㅗㅈㅏㅇ ㅎㅛㄱㅘ ㅈㅗㅎ ㅋㅝㄹㅊㅗㄱㅗㄱㅡㅂ ...      1\n",
       "99239    NaN  ㅈㅓㄴㄱㅜㄱ ㄷㅏㅇㅇㅣㄹ ㄱㅓㄹㅐ ㅇㅏㄴㅈㅓㄴ ㄱㅓㄹㅐ ㅂㅗㅈㅏㅇ ㅍㅜㅁㅈㅣㄹ ㅊㅚ...      1\n",
       "99240    NaN  ㅈㅓㄴㄱㅜㄱ ㄷㅏㅇㅇㅣㄹ ㄱㅓㄹㅐ ㅇㅏㄴㅈㅓㄴ ㄱㅓㄹㅐ ㅂㅗㅈㅏㅇ ㅍㅜㅁㅈㅣㄹ ㅊㅚ...      1\n",
       "99241    NaN  ㅇㅏㅇㅣㅅㅡ ㅍㅏㄴㅁㅐ ㅇㅏㅇㅣㅅㅡ ㅈㅏㄱㄷㅐㄱㅣ ㅈㅏㄱㄷㅐㄱㅣ ㅅㅣㅇㅝㄴ ㅅㅜㄹ ...      1\n",
       "99242    NaN  ㅈㅓㅇㅈㅣㄱ ㅅㅣㄴㄹㅚ ㅇㅏㄴㅈㅓㄴ ㄱㅓㄹㅐ ㅂㅗㅈㅏㅇ ㄱㅓㄹㅐ ㄱㅓㄹㅐ ㅌㅡ ㅍㅜ...      1\n",
       "\n",
       "[99243 rows x 3 columns]"
      ]
     },
     "execution_count": 11,
     "metadata": {},
     "output_type": "execute_result"
    }
   ],
   "source": [
    "data2.reset_index()"
   ]
  },
  {
   "cell_type": "code",
   "execution_count": 12,
   "metadata": {},
   "outputs": [
    {
     "data": {
      "text/html": [
       "<div>\n",
       "<style scoped>\n",
       "    .dataframe tbody tr th:only-of-type {\n",
       "        vertical-align: middle;\n",
       "    }\n",
       "\n",
       "    .dataframe tbody tr th {\n",
       "        vertical-align: top;\n",
       "    }\n",
       "\n",
       "    .dataframe thead th {\n",
       "        text-align: right;\n",
       "    }\n",
       "</style>\n",
       "<table border=\"1\" class=\"dataframe\">\n",
       "  <thead>\n",
       "    <tr style=\"text-align: right;\">\n",
       "      <th></th>\n",
       "      <th>Text</th>\n",
       "      <th>Label</th>\n",
       "    </tr>\n",
       "  </thead>\n",
       "  <tbody>\n",
       "    <tr>\n",
       "      <th>1.0</th>\n",
       "      <td>사람들이 잘 모르는데 진짜 유명해졌으면 하는 일본 편의점 음식 일본 미니스톱 아이스...</td>\n",
       "      <td>0</td>\n",
       "    </tr>\n",
       "    <tr>\n",
       "      <th>2.0</th>\n",
       "      <td>아이스의오락시간 아이스 의 오락시간 과연 누가 아이스의 유연성 왕일지</td>\n",
       "      <td>0</td>\n",
       "    </tr>\n",
       "    <tr>\n",
       "      <th>3.0</th>\n",
       "      <td>오 오랫만에 아이스 돌체라떼 음 맛있겠다 Starbucks in 부산광역시 Busan</td>\n",
       "      <td>0</td>\n",
       "    </tr>\n",
       "    <tr>\n",
       "      <th>4.0</th>\n",
       "      <td>맛집탐험대 나를 놀라게한 커피 TERAROSA TERAROSA 테라로사 날씨 냉커피...</td>\n",
       "      <td>0</td>\n",
       "    </tr>\n",
       "    <tr>\n",
       "      <th>5.0</th>\n",
       "      <td>로렉스 아이스 다이아 고씨쥬얼리 명품시계 금 화이트 골드 화이트골드</td>\n",
       "      <td>0</td>\n",
       "    </tr>\n",
       "  </tbody>\n",
       "</table>\n",
       "</div>"
      ],
      "text/plain": [
       "                                                  Text  Label\n",
       "1.0  사람들이 잘 모르는데 진짜 유명해졌으면 하는 일본 편의점 음식 일본 미니스톱 아이스...      0\n",
       "2.0             아이스의오락시간 아이스 의 오락시간 과연 누가 아이스의 유연성 왕일지      0\n",
       "3.0    오 오랫만에 아이스 돌체라떼 음 맛있겠다 Starbucks in 부산광역시 Busan      0\n",
       "4.0  맛집탐험대 나를 놀라게한 커피 TERAROSA TERAROSA 테라로사 날씨 냉커피...      0\n",
       "5.0              로렉스 아이스 다이아 고씨쥬얼리 명품시계 금 화이트 골드 화이트골드      0"
      ]
     },
     "execution_count": 12,
     "metadata": {},
     "output_type": "execute_result"
    }
   ],
   "source": [
    "data1.head()"
   ]
  },
  {
   "cell_type": "code",
   "execution_count": 13,
   "metadata": {},
   "outputs": [],
   "source": [
    "Train_X,Test_X,Train_Y,Test_Y = MyModels.data_transformer(data2)"
   ]
  },
  {
   "cell_type": "code",
   "execution_count": 14,
   "metadata": {},
   "outputs": [],
   "source": [
    "svm = MyModels.learning_svm(Train_X,Train_Y)"
   ]
  },
  {
   "cell_type": "code",
   "execution_count": 15,
   "metadata": {},
   "outputs": [],
   "source": [
    "svm_predict = MyModels.predict_SVM(svm,Test_X)"
   ]
  },
  {
   "cell_type": "code",
   "execution_count": 16,
   "metadata": {},
   "outputs": [
    {
     "name": "stdout",
     "output_type": "stream",
     "text": [
      "ACCURACY :  99.93618379068283\n",
      "Precision Score : 0.9863760217983651\n",
      "Recall Score :  0.9627659574468085\n",
      "F1 Score :  0.9744279946164199\n",
      "None\n"
     ]
    }
   ],
   "source": [
    "print(MyModels.score(svm_predict,Test_Y))"
   ]
  },
  {
   "cell_type": "code",
   "execution_count": 17,
   "metadata": {},
   "outputs": [],
   "source": [
    "NB = MyModels.learning_MNB(Train_X,Train_Y)"
   ]
  },
  {
   "cell_type": "code",
   "execution_count": 18,
   "metadata": {},
   "outputs": [],
   "source": [
    "NB_predict = MyModels.predict_MNB(NB,Test_X)"
   ]
  },
  {
   "cell_type": "code",
   "execution_count": 19,
   "metadata": {},
   "outputs": [
    {
     "name": "stdout",
     "output_type": "stream",
     "text": [
      "ACCURACY :  99.62382023981459\n",
      "Precision Score : 0.9962406015037594\n",
      "Recall Score :  0.7047872340425532\n",
      "F1 Score :  0.825545171339564\n",
      "None\n"
     ]
    }
   ],
   "source": [
    "print(MyModels.score(NB_predict,Test_Y))"
   ]
  },
  {
   "cell_type": "code",
   "execution_count": 20,
   "metadata": {},
   "outputs": [
    {
     "name": "stdout",
     "output_type": "stream",
     "text": [
      "[[29392     5]\n",
      " [   14   362]]\n"
     ]
    }
   ],
   "source": [
    "MyModels.show_confusion_matrix(svm_predict,Test_Y)"
   ]
  },
  {
   "cell_type": "code",
   "execution_count": 21,
   "metadata": {
    "scrolled": true
   },
   "outputs": [
    {
     "name": "stdout",
     "output_type": "stream",
     "text": [
      "[[29396     1]\n",
      " [  111   265]]\n"
     ]
    }
   ],
   "source": [
    "MyModels.show_confusion_matrix(NB_predict,Test_Y)"
   ]
  },
  {
   "cell_type": "code",
   "execution_count": null,
   "metadata": {},
   "outputs": [],
   "source": [
    "only_NB_FP = np.where((Test_Y == 1) & (NB_predict == 0))\n",
    "data2 = data_after.reset_index()\n",
    "data2.head()\n",
    "data_after['Text'][only_NB_FP[0]]\n",
    "#print(Test_X[only_NB_FP])"
   ]
  },
  {
   "cell_type": "code",
   "execution_count": null,
   "metadata": {},
   "outputs": [],
   "source": [
    "a = tester.drop_duplicates([\"Text\"],keep = \"last\")"
   ]
  },
  {
   "cell_type": "code",
   "execution_count": null,
   "metadata": {},
   "outputs": [],
   "source": [
    "a.reset_index()['Text'][only_NB_FP[0]]\n",
    "print(len(a))"
   ]
  },
  {
   "cell_type": "code",
   "execution_count": null,
   "metadata": {},
   "outputs": [],
   "source": [
    "count = 0\n",
    "for i in Test_Y:\n",
    "    #print(i)\n",
    "    if i == 1:\n",
    "        count += 1\n",
    "print(count)"
   ]
  },
  {
   "cell_type": "code",
   "execution_count": null,
   "metadata": {},
   "outputs": [],
   "source": [
    "data_after.to_excel(\"isreal.xlsx\")"
   ]
  },
  {
   "cell_type": "code",
   "execution_count": null,
   "metadata": {},
   "outputs": [],
   "source": [
    "\"º\".isalpha()"
   ]
  },
  {
   "cell_type": "markdown",
   "metadata": {},
   "source": [
    "[기능 추가할 점]\n",
    "1. 붙여쓰는 단어들은 따로 라이브러리를 사용하여 나눌 필요가 있음(N >= 10) : 근거 : 제일 긴 낱말이 11자 정도임 (속도는 해봐야...)\n",
    "2. ㅇㅏㅇㅣㅅㅡ 같은 단어들도 처리할 방법 ㅇㅅㅇ 이나 ㅜㅅㅜ 같은 이모티콘은 자음모음을 합치게 되면 2글자 이상의 단어가 안됨을 이용? 현재는 그냥 일단 다 지우는 방향으로 코드를 작성함\n",
    "3. 특수문자 처리 : ' 나 , 같은 단어가 처리 안됨을 확인\n",
    "4. 영어도 지워야 할까?\n",
    "5. 부족한 마약 판매 게시글 --> 29000 VS 150( 추가적으로 수집)  #수집중\n",
    "6. 마약 판매 게시글의 특징 : 같은 게시글인데 연락 메신저의 ID만 계속 바꾸는 형식을 취함 --> 영어 삭제의 필요성(4)\n",
    "7. 어떤 문장이 주어지면 이것이 판매 게시글인지 아닌지 테스트 해 볼 수 있는 프로그램 만들기\n",
    "8. 앞부분이 같은 문장이 반복되고 뒷부분은 계속 바뀌는 형태 --> 놔둬도 될것같은 느낌.\n",
    "9. 전처리 순서 생각해보기 --> 단일 글자에 대해 지워지지 않고 남아 있는것을 확인.\n",
    "10. 수동으로 Threshold를 조절해서 재현율을 증가?\n",
    "11. 재현율이 떨어지는 원인 : Label이 1인 데이터의 부족이라고 생각함 --> 충분한 학습을 하지 못함"
   ]
  }
 ],
 "metadata": {
  "kernelspec": {
   "display_name": "Python 3",
   "language": "python",
   "name": "python3"
  },
  "language_info": {
   "codemirror_mode": {
    "name": "ipython",
    "version": 3
   },
   "file_extension": ".py",
   "mimetype": "text/x-python",
   "name": "python",
   "nbconvert_exporter": "python",
   "pygments_lexer": "ipython3",
   "version": "3.7.3"
  }
 },
 "nbformat": 4,
 "nbformat_minor": 2
}
