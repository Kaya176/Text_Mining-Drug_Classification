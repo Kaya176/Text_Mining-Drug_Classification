{
 "cells": [
  {
   "cell_type": "code",
   "execution_count": 2,
   "metadata": {},
   "outputs": [],
   "source": [
    "import pandas as pd\n",
    "import numpy as np"
   ]
  },
  {
   "cell_type": "code",
   "execution_count": 3,
   "metadata": {},
   "outputs": [],
   "source": [
    "#파일을 읽고 필요한 정보 데이터만 가져오기\n",
    "def read_file(file):\n",
    "    data = pd.read_excel(file)\n",
    "    text = data[\"text\"]\n",
    "    label = data['label']\n",
    "    new_data = pd.DataFrame({\"Text\" : text,\"Label\" : label})\n",
    "    return new_data"
   ]
  },
  {
   "cell_type": "code",
   "execution_count": 28,
   "metadata": {},
   "outputs": [
    {
     "name": "stdout",
     "output_type": "stream",
     "text": [
      "[☆월요일(Monday)아이스전문업체]\n",
      "\n",
      "30g이상정확한인증샷!\n",
      "서울/경기/인천24시간!\n",
      "한시적회원모집!\n",
      "\n",
      "텔레그램:Monday3\n",
      "\n",
      "#아이스\n",
      "#작ㄷㅐ기\n",
      "#아ㅇㅣ스작대ㄱㅣ\n",
      "#짝ㄷㅐ기\n",
      "#짝ㄷㅐㄱㅣ팝ㄴㅣ다\"))\n"
     ]
    }
   ],
   "source": [
    "if __name__ == \"__main__\":\n",
    "    sample_data = '''[☆월요일(Monday)아이스전문업체]\n",
    "\n",
    "30g이상정확한인증샷!\n",
    "서울/경기/인천24시간!\n",
    "한시적회원모집!\n",
    "\n",
    "텔레그램:Monday3\n",
    "\n",
    "#아이스\n",
    "#작ㄷㅐ기\n",
    "#아ㅇㅣ스작대ㄱㅣ\n",
    "#짝ㄷㅐ기\n",
    "#짝ㄷㅐㄱㅣ팝ㄴㅣ다\"))'''\n",
    "    #data = read_file(\"data_sample.xlsx\")\n",
    "    #print(data.head())\n",
    "    print(sample_data)"
   ]
  },
  {
   "cell_type": "code",
   "execution_count": null,
   "metadata": {},
   "outputs": [],
   "source": []
  },
  {
   "cell_type": "code",
   "execution_count": 13,
   "metadata": {},
   "outputs": [],
   "source": [
    "#여러 문장들이 담긴 리스트에서 각 문장을 띄어쓰기 단위로 쪼개서 하나의 리스트로 변환하는 함수\n",
    "#코드의 간편화를 위해 작성함.\n",
    "def split_all_sentence(text_data):\n",
    "    result = []\n",
    "    count = 0\n",
    "    for idx,text in enumerate(list(text_data)):\n",
    "        #print(idx,text)\n",
    "        temp = text.split(sep = \" \")\n",
    "        result.append(temp)\n",
    "    return result"
   ]
  },
  {
   "cell_type": "code",
   "execution_count": 37,
   "metadata": {
    "scrolled": true
   },
   "outputs": [
    {
     "name": "stdout",
     "output_type": "stream",
     "text": [
      "[['사람들이', '잘', '모르는데', '진짜', '유명해졌으면', '하는', '일본', '편의점', '음식', '#일본', '#미니스톱', '#아이스', '#果実いちご氷', '세상사람들', '이것', '좀', '먹어보세요ㅠ유유ㅠㅠㅠ', '위에는', '달달한', '바닐라', '아이스고', '밑에는', '얼린', '딸기에', '연유가', '뿌려져', '있어요pic.twitter.com/KOERcUnoPR'], ['[#아이스의오락시간]', '#아이스', '의', '오락시간', '\\n과연', '누가', '아이스의', '유연성', '왕일지', '얼른보러가요오\\n\\n링크\\nhttps://youtu.be/CIrDBMGpi88\\xa0'], ['오.', '오랫만에', '#아이스', '#돌체라떼', '음', '맛있겠다', '(@', 'Starbucks', 'in', '부산광역시,', 'Busan,', '부산)https://www.swarmapp.com/c/e1Fpaw2QAjG\\xa0'], ['[맛집탐험대]', '나를', '놀라게한', '커피', '\"TERAROSA\"', '\\n\\n#TERAROSA', '#테라로사', '#날씨', '#냉커피', '#덥다', '#맛', '#맛집', '#사장님', '#서정점', '#아메리카노', '#아이스', '#아이스커피', '#양평', '#좋다', '#카페', '#커피', '#커피향', '#커피향기', '#향기', '#홍보', '#콜드브루http://enomoosiki.tistory.com/395\\xa0'], ['#로렉스', '#아이스#', '다이아#고씨쥬얼리#명품시계#금#화이트#골드#화이트골드', 'https://www.instagram.com/p/BmLvn5gAFeF/?utm_source=ig_twitter_share&igshid=16vjo18h09rib\\xa0…']]\n"
     ]
    }
   ],
   "source": [
    "if __name__ == \"__main__\":\n",
    "    print(split_all_sentence(data[\"Text\"][:5]))\n",
    "    #print(split_all_sentence(sample_data))\n",
    "    type(a)"
   ]
  },
  {
   "cell_type": "code",
   "execution_count": 39,
   "metadata": {},
   "outputs": [],
   "source": [
    "#data에 있는 text 데이터에 대해 url(링크)/pic(그림)을 다 없애주는 함수\n",
    "def remove_url(text_data):\n",
    "    result = []\n",
    "    for line in text_data:\n",
    "        new_line = []\n",
    "        for text in line:\n",
    "            if (\"http\" not in text) and (\"pic\" not in text):\n",
    "                new_line.append(text)\n",
    "        result.append(new_line)\n",
    "    return result"
   ]
  },
  {
   "cell_type": "code",
   "execution_count": 40,
   "metadata": {},
   "outputs": [
    {
     "name": "stdout",
     "output_type": "stream",
     "text": [
      "[['사람들이', '잘', '모르는데', '진짜', '유명해졌으면', '하는', '일본', '편의점', '음식', '#일본', '#미니스톱', '#아이스', '#果実いちご氷', '세상사람들', '이것', '좀', '먹어보세요ㅠ유유ㅠㅠㅠ', '위에는', '달달한', '바닐라', '아이스고', '밑에는', '얼린', '딸기에', '연유가', '뿌려져'], ['[#아이스의오락시간]', '#아이스', '의', '오락시간', '\\n과연', '누가', '아이스의', '유연성', '왕일지'], ['오.', '오랫만에', '#아이스', '#돌체라떼', '음', '맛있겠다', '(@', 'Starbucks', 'in', '부산광역시,', 'Busan,'], ['[맛집탐험대]', '나를', '놀라게한', '커피', '\"TERAROSA\"', '\\n\\n#TERAROSA', '#테라로사', '#날씨', '#냉커피', '#덥다', '#맛', '#맛집', '#사장님', '#서정점', '#아메리카노', '#아이스', '#아이스커피', '#양평', '#좋다', '#카페', '#커피', '#커피향', '#커피향기', '#향기', '#홍보'], ['#로렉스', '#아이스#', '다이아#고씨쥬얼리#명품시계#금#화이트#골드#화이트골드'], ['새벽까지', '비가', '오더니\\n아침이', '되니', '또다시', '무더위~\\n아침부터', '아아로', '한', '잔', '마셔요^^\\nㆍ\\nㆍ\\nㆍ\\n#늦더위', '#아이스', '#커피향', '@태안펜션그람피하우스'], ['#얼음활용법\\n#얼음', '#아이스\\n#생활꿀팁\\n#경기도경제과학진흥원', '#GBSA\\n\\n집에', '보관해둔', '얼음을', '생활', '곳곳에서', '알뜰하게', '활용하는', '방법을'], ['#광주', '낮보단', '덜', '더운', '#하늘마당\\n#어디간거니', 'ㅜㅡㅜ\\n이#밤분위기', '에', '#비타500', '#아이스', '로', '들이마시고', '있음ㅜㅜㅜ\\n#광주광역시', '#문화전당', '#문화전당하늘공원', '#여행스타그램', '#광주여행', '그래도', '#덥다그램\\n#gwangju', '#tripstagram', '#hanulmadang', '@하늘', '마당'], ['7월', '4주차', '신상', '입고되었습니다.', '', '#카메라', '#안경', '#빵', '#튜브잔', '#토끼', '#아이스', '#햄스터', '#물개', '#병아리', '#모찌', '#포켓몬스터', '#디즈니프린세스', '#짱구', '#스밋코구라시', '#케이프', '#맥주잔', '#게임기', '#도검난무', '#건담', '#가챠폰', '#피규어', '#미니어쳐', '#홍대', '#상수역', '#로렌스길'], ['집에서도', '만들', '수', '있는\\n나만의', '아이스크림', '제조법\\n\\n']]\n"
     ]
    }
   ],
   "source": [
    "if __name__ == \"__main__\":\n",
    "    a = remove_url(split_all_sentence(data[\"Text\"][:10]))\n",
    "    print(a[:10])"
   ]
  },
  {
   "cell_type": "code",
   "execution_count": 41,
   "metadata": {},
   "outputs": [],
   "source": [
    "#특수문자를 모두 제거하는 함수\n",
    "def change(otl):\n",
    "    result = []\n",
    "    for line in otl:\n",
    "        result_text = \"\"\n",
    "        for word in line:\n",
    "            if word.isalpha() :\n",
    "                #new_word = remove_dan(word)\n",
    "                result_text += word\n",
    "            else:\n",
    "                for t in word: #remove_dan(word) \n",
    "                    if t.isalpha():\n",
    "                        result_text += t\n",
    "                    else:\n",
    "                        result_text += \" \"\n",
    "            result_text += \" \"\n",
    "        result.append(result_text)\n",
    "    return result"
   ]
  },
  {
   "cell_type": "code",
   "execution_count": 25,
   "metadata": {},
   "outputs": [
    {
     "name": "stdout",
     "output_type": "stream",
     "text": [
      "['    월 요 일   M o n d a y   아 이 스 전 문 업 체   ', '', '    g 이 상 정 확 한 인 증 샷   ', '서 울   경 기   인 천     시 간   ', '한 시 적 회 원 모 집   ', '', '텔 레 그 램   M o n d a y   ', '', '  아 이 스 ', '  작 ㄷ ㅐ 기 ', '  아 ㅇ ㅣ 스 작 대 ㄱ ㅣ ', '  짝 ㄷ ㅐ 기 ', '  짝 ㄷ ㅐ ㄱ ㅣ 팝 ㄴ ㅣ 다       ']\n"
     ]
    }
   ],
   "source": [
    "if __name__ == \"__main__\":\n",
    "    #print(change([['#얼음활용법\\n#얼음', '#아이스\\n#생활꿀팁\\n#경기도경제과학진흥원', '#GBSA\\n\\n집에', '보관해둔', '얼음을', '생활', '곳곳에서', '알뜰하게', '활용하는', '방법을']]))\n",
    "    #print(change(['[☆월요일(Monday)아이스전문업체]', '', '30g이상정확한인증샷!', '서울/경기/인천24시간!', '한시적회원모집!', '', '텔레그램:Monday3', '', '#아이스', '#작ㄷㅐ기', '#아ㅇㅣ스작대ㄱㅣ', '#짝ㄷㅐ기', '#짝ㄷㅐㄱㅣ팝ㄴㅣ다\"))']))"
   ]
  },
  {
   "cell_type": "code",
   "execution_count": 42,
   "metadata": {},
   "outputs": [],
   "source": [
    "#이모티콘/ 오타 제거\n",
    "#\"빵\" 같은 하나의 문자같은 경우는 처리 XXX /단, 해쉬태그가 붙어 있는 경우엔 예외\n",
    "#ㅇㅏㅇㅣㅅㅡ 같은 경우엔 다 없애버림 ( 방법 생각중) --> 작업중 #input : string / output : \"string\"\n",
    "def remove_dan(word):\n",
    "    result = \"\"\n",
    "    han = \"ㄱㄴㄷㄹㅁㅂㅅㅇㅈㅊㅋㅍㅎㄲㄸㅃㅆㅉㅏㅑㅓㅕㅜㅠㅗㅛㅐㅒㅔㅖㅡㅣㆍ\"\n",
    "    if len(word) < 2:\n",
    "        pass\n",
    "    else:\n",
    "        for text in word:\n",
    "            if text not in han:\n",
    "                result+=text\n",
    "            else:\n",
    "                result+= \" \"\n",
    "    return result"
   ]
  },
  {
   "cell_type": "code",
   "execution_count": 43,
   "metadata": {},
   "outputs": [
    {
     "name": "stdout",
     "output_type": "stream",
     "text": [
      "먹어보세요 유유   \n",
      "    관\n"
     ]
    }
   ],
   "source": [
    "if __name__ == \"__main__\":\n",
    "    print(remove_dan(\"먹어보세요ㅠ유유ㅠㅠㅠ\"))\n",
    "    print(remove_dan(\"ㄷㅗㅅㅓ관\"))"
   ]
  },
  {
   "cell_type": "code",
   "execution_count": 44,
   "metadata": {},
   "outputs": [],
   "source": [
    "#중간에 들어있는 여러 공백을 다 없애주는 함수\n",
    "def re_sent(text):\n",
    "    text_list = text.split(\" \")\n",
    "    new_sent = []\n",
    "    for i in text_list:\n",
    "        if i.isalpha() :\n",
    "            new_sent.append(i)\n",
    "    return new_sent"
   ]
  },
  {
   "cell_type": "code",
   "execution_count": 95,
   "metadata": {},
   "outputs": [],
   "source": [
    "#길이가 10 이상인 경우, 형태소 분석기로 나눠주는 함수\n",
    "import MeCab\n",
    "#custom_list = [\"NNP\",\"NNG\",\"VV\",\"VA\",\"XR\"]\n",
    "def kimchi(text,custom_list = [\"NNP\",\"NNG\",\"VV\",\"VA\",\"XR\",\"UNKNOWN\"],option = 2):\n",
    "    tagger = MeCab.Tagger()\n",
    "    real = tagger.parse(text)\n",
    "    separate_text = real.split()\n",
    "    real_text = separate_text[:-1]\n",
    "    words = []\n",
    "    types = []\n",
    "    ans2 = []\n",
    "    selected_words = []\n",
    "    \n",
    "    #print(real_text)\n",
    "    for i in range(len(real_text)):\n",
    "        if i%2 == 0 :\n",
    "            words.append(real_text[i])\n",
    "        else:\n",
    "            #istype = real_text[i].split(sep = \",\")[0]\n",
    "            types.append(real_text[i].split(sep = \",\")[0])\n",
    "            #if istype in custom_list :\n",
    "                #types.append(real_text[i].split(sep = \",\")[0])\n",
    "    ans = list(zip(words,types))\n",
    "    \n",
    "    ans1 = []\n",
    "    for i in ans:\n",
    "        ans1.append(i[0])\n",
    "    ans11 = \" \".join(ans1)\n",
    "    if custom_list == []:\n",
    "        ans2 = words\n",
    "        \n",
    "    else:\n",
    "        for i in ans:\n",
    "            if i[1] in custom_list:\n",
    "                selected_words.append(i[0])\n",
    "        ans2 = selected_words\n",
    "        \n",
    "    if option == 1:\n",
    "        return ans\n",
    "    else:\n",
    "        return ans2"
   ]
  },
  {
   "cell_type": "code",
   "execution_count": 11,
   "metadata": {},
   "outputs": [
    {
     "name": "stdout",
     "output_type": "stream",
     "text": [
      "['월요일', '아이스', '전문', '업체', '이상', '정확', '인증', '샷', '서울', '경기', '인천', '한시', '회원', '모집', '텔레', '그램', '아이스', '작', 'ㄷ', 'ㅐ기', 'ㅇㅣ스작대ㄱㅣ', '짝', 'ㄷ', 'ㅐ기', '짝', 'ㄷ', 'ㅐㄱㅣ팝ㄴㅣ다']\n"
     ]
    }
   ],
   "source": [
    "if __name__ == \"__main__\":\n",
    "    print(kimchi('''[☆월요일(Monday)아이스전문업체]\n",
    "\n",
    "30g이상정확한인증샷!\n",
    "서울/경기/인천24시간!\n",
    "한시적회원모집!\n",
    "\n",
    "텔레그램:Monday3\n",
    "\n",
    "#아이스\n",
    "#작ㄷㅐ기\n",
    "#아ㅇㅣ스작대ㄱㅣ\n",
    "#짝ㄷㅐ기\n",
    "#짝ㄷㅐㄱㅣ팝ㄴㅣ다\"))'''))"
   ]
  },
  {
   "cell_type": "code",
   "execution_count": 56,
   "metadata": {
    "scrolled": true
   },
   "outputs": [
    {
     "name": "stdout",
     "output_type": "stream",
     "text": [
      "[['사람들이', '잘', '모르는데', '진짜', '유명해졌으면', '하는', '일본', '편의점', '음식', '#일본', '#미니스톱', '#아이스', '#果実いちご氷', '세상사람들', '이것', '좀', '먹어보세요ㅠ유유ㅠㅠㅠ', '위에는', '달달한', '바닐라', '아이스고', '밑에는', '얼린', '딸기에', '연유가', '뿌려져'], ['[#아이스의오락시간]', '#아이스', '의', '오락시간', '\\n과연', '누가', '아이스의', '유연성', '왕일지'], ['오.', '오랫만에', '#아이스', '#돌체라떼', '음', '맛있겠다', '(@', 'Starbucks', 'in', '부산광역시,', 'Busan,'], ['[맛집탐험대]', '나를', '놀라게한', '커피', '\"TERAROSA\"', '\\n\\n#TERAROSA', '#테라로사', '#날씨', '#냉커피', '#덥다', '#맛', '#맛집', '#사장님', '#서정점', '#아메리카노', '#아이스', '#아이스커피', '#양평', '#좋다', '#카페', '#커피', '#커피향', '#커피향기', '#향기', '#홍보'], ['#로렉스', '#아이스#', '다이아#고씨쥬얼리#명품시계#금#화이트#골드#화이트골드'], ['새벽까지', '비가', '오더니\\n아침이', '되니', '또다시', '무더위~\\n아침부터', '아아로', '한', '잔', '마셔요^^\\nㆍ\\nㆍ\\nㆍ\\n#늦더위', '#아이스', '#커피향', '@태안펜션그람피하우스'], ['#얼음활용법\\n#얼음', '#아이스\\n#생활꿀팁\\n#경기도경제과학진흥원', '#GBSA\\n\\n집에', '보관해둔', '얼음을', '생활', '곳곳에서', '알뜰하게', '활용하는', '방법을'], ['#광주', '낮보단', '덜', '더운', '#하늘마당\\n#어디간거니', 'ㅜㅡㅜ\\n이#밤분위기', '에', '#비타500', '#아이스', '로', '들이마시고', '있음ㅜㅜㅜ\\n#광주광역시', '#문화전당', '#문화전당하늘공원', '#여행스타그램', '#광주여행', '그래도', '#덥다그램\\n#gwangju', '#tripstagram', '#hanulmadang', '@하늘', '마당'], ['7월', '4주차', '신상', '입고되었습니다.', '', '#카메라', '#안경', '#빵', '#튜브잔', '#토끼', '#아이스', '#햄스터', '#물개', '#병아리', '#모찌', '#포켓몬스터', '#디즈니프린세스', '#짱구', '#스밋코구라시', '#케이프', '#맥주잔', '#게임기', '#도검난무', '#건담', '#가챠폰', '#피규어', '#미니어쳐', '#홍대', '#상수역', '#로렌스길'], ['집에서도', '만들', '수', '있는\\n나만의', '아이스크림', '제조법\\n\\n']]\n",
      "----------------------------------------------------------------------------------------------------\n",
      "['사람들이 잘 모르는데 진짜 유명해졌으면 하는 일본 편의점 음식  일본  미니스톱  아이스  果実いちご氷 세상사람들 이것 좀 먹어보세요ㅠ유유ㅠㅠㅠ 위에는 달달한 바닐라 아이스고 밑에는 얼린 딸기에 연유가 뿌려져 ', '  아이스의오락시간   아이스 의 오락시간  과연 누가 아이스의 유연성 왕일지 ', '오  오랫만에  아이스  돌체라떼 음 맛있겠다    Starbucks in 부산광역시  Busan  ', ' 맛집탐험대  나를 놀라게한 커피  TERAROSA     TERAROSA  테라로사  날씨  냉커피  덥다  맛  맛집  사장님  서정점  아메리카노  아이스  아이스커피  양평  좋다  카페  커피  커피향  커피향기  향기  홍보 ', ' 로렉스  아이스  다이아 고씨쥬얼리 명품시계 금 화이트 골드 화이트골드 ', '새벽까지 비가 오더니 아침이 되니 또다시 무더위  아침부터 아아로 한 잔 마셔요   ㆍ ㆍ ㆍ  늦더위  아이스  커피향  태안펜션그람피하우스 ', ' 얼음활용법  얼음  아이스  생활꿀팁  경기도경제과학진흥원  GBSA  집에 보관해둔 얼음을 생활 곳곳에서 알뜰하게 활용하는 방법을 ', ' 광주 낮보단 덜 더운  하늘마당  어디간거니 ㅜㅡㅜ 이 밤분위기 에  비타     아이스 로 들이마시고 있음ㅜㅜㅜ  광주광역시  문화전당  문화전당하늘공원  여행스타그램  광주여행 그래도  덥다그램  gwangju  tripstagram  hanulmadang  하늘 마당 ', ' 월  주차 신상 입고되었습니다    카메라  안경  빵  튜브잔  토끼  아이스  햄스터  물개  병아리  모찌  포켓몬스터  디즈니프린세스  짱구  스밋코구라시  케이프  맥주잔  게임기  도검난무  건담  가챠폰  피규어  미니어쳐  홍대  상수역  로렌스길 ', '집에서도 만들 수 있는 나만의 아이스크림 제조법   ']\n",
      "----------------------------------------------------------------------------------------------------\n",
      "['사람들이 잘 모르는데 진짜 유명해졌으면 하는 일본 편의점 음식 일본 미니스톱 아이스 果実いちご氷 세상사람들 이것 좀 먹어보세요ㅠ유유ㅠㅠㅠ 위에는 달달한 바닐라 아이스고 밑에는 얼린 딸기에 연유가 뿌려져', '아이스의오락시간 아이스 의 오락시간 과연 누가 아이스의 유연성 왕일지', '오 오랫만에 아이스 돌체라떼 음 맛있겠다 Starbucks in 부산광역시 Busan', '맛집탐험대 나를 놀라게한 커피 TERAROSA TERAROSA 테라로사 날씨 냉커피 덥다 맛 맛집 사장님 서정점 아메리카노 아이스 아이스커피 양평 좋다 카페 커피 커피향 커피향기 향기 홍보', '로렉스 아이스 다이아 고씨쥬얼리 명품시계 금 화이트 골드 화이트골드', '새벽까지 비가 오더니 아침이 되니 또다시 무더위 아침부터 아아로 한 잔 마셔요 ㆍ ㆍ ㆍ 늦더위 아이스 커피향 태안펜션그람피하우스', '얼음활용법 얼음 아이스 생활꿀팁 경기도경제과학진흥원 GBSA 집에 보관해둔 얼음을 생활 곳곳에서 알뜰하게 활용하는 방법을', '광주 낮보단 덜 더운 하늘마당 어디간거니 ㅜㅡㅜ 이 밤분위기 에 비타 아이스 로 들이마시고 있음ㅜㅜㅜ 광주광역시 문화전당 문화전당하늘공원 여행스타그램 광주여행 그래도 덥다그램 gwangju tripstagram hanulmadang 하늘 마당', '월 주차 신상 입고되었습니다 카메라 안경 빵 튜브잔 토끼 아이스 햄스터 물개 병아리 모찌 포켓몬스터 디즈니프린세스 짱구 스밋코구라시 케이프 맥주잔 게임기 도검난무 건담 가챠폰 피규어 미니어쳐 홍대 상수역 로렌스길', '집에서도 만들 수 있는 나만의 아이스크림 제조법']\n"
     ]
    }
   ],
   "source": [
    "if __name__ == \"__main__\":\n",
    "    #a = \"['[☆월요일(Monday)아이스전문업체]', '', '30g이상정확한인증샷!', '서울/경기/인천24시간!', '한시적회원모집!', '', '텔레그램:Monday3', '', '#아이스', '#작ㄷㅐ기', '#아ㅇㅣ스작대ㄱㅣ', '#짝ㄷㅐ기', '#짝ㄷㅐㄱㅣ팝ㄴㅣ다']\"\n",
    "    print(a)\n",
    "    print(\"-\"*100)\n",
    "    a1 = change(a)\n",
    "    print(a1)\n",
    "    print(\"-\"*100)\n",
    "    s = []\n",
    "    for test1 in a1:\n",
    "        s1= []\n",
    "        for test2 in test1.split():\n",
    "            if test2 != \" \":\n",
    "                s1.append(test2)\n",
    "        s.append(\" \".join(s1))\n",
    "    print(s)"
   ]
  },
  {
   "cell_type": "code",
   "execution_count": 79,
   "metadata": {},
   "outputs": [],
   "source": [
    "import hgtk"
   ]
  },
  {
   "cell_type": "code",
   "execution_count": 89,
   "metadata": {},
   "outputs": [
    {
     "name": "stdout",
     "output_type": "stream",
     "text": [
      "앙ㅣ\n",
      "앙ㅣ\n"
     ]
    }
   ],
   "source": [
    "if __name__ == \"__main__\":\n",
    "    a = hgtk.text.decompose(\"ㅇㅏㅇㅣㅅㅡ\")\n",
    "    print(a.replace(\"ᴥ\",\"\"))\n",
    "    print(a)"
   ]
  },
  {
   "cell_type": "code",
   "execution_count": 77,
   "metadata": {},
   "outputs": [],
   "source": [
    "#자모음이 분리된 text를 하나의 단어로 다시 만들어주는 함수.\n",
    "def decompose_text(text_list):\n",
    "    new_list = []\n",
    "    for text in text_list:\n",
    "        decomposed = hgtk.text.decompose(text)\n",
    "        new_list.append(decomposed.replace(\"ᴥ\",\"\"))\n",
    "    return new_list"
   ]
  },
  {
   "cell_type": "code",
   "execution_count": 5,
   "metadata": {},
   "outputs": [],
   "source": [
    "#알파벳을 모두 제거하는 함수.\n",
    "def remove_alpha(text_list):\n",
    "    new_list = []\n",
    "    alpha = \"abcdefghijklmnopqrstuvwxyz\"\n",
    "    for text in text_list:\n",
    "        one = \"\"\n",
    "        for m in text.lower():\n",
    "            if m not in alpha :\n",
    "                one += m\n",
    "        new_list.append(one)\n",
    "    return new_list"
   ]
  },
  {
   "cell_type": "code",
   "execution_count": 90,
   "metadata": {},
   "outputs": [],
   "source": [
    "#문장의 각 단어의 자모음을 분리하는 함수.\n",
    "def compose_text(text_list):\n",
    "    new_list = []\n",
    "    for text in text_list:\n",
    "        decomposed = hgtk.text.compose(text)\n",
    "        new_list.append(decomposed.replace(\"ᴥ\",\"\"))\n",
    "    return new_list"
   ]
  },
  {
   "cell_type": "code",
   "execution_count": 9,
   "metadata": {},
   "outputs": [
    {
     "name": "stdout",
     "output_type": "stream",
     "text": [
      "['ㅅㅏㄹㅏㅁㄷㅡㄹㅇㅣ ㅁㅗㄹㅡㄴㅡㄴㄷㅔ ㅈㅣㄴㅉㅏ ㅇㅠㅁㅕㅇㅎㅐㅈㅕㅆㅇㅡㅁㅕㄴ ㅎㅏㄴㅡㄴ ㅇㅣㄹㅂㅗㄴ ㅍㅕㄴㅇㅢㅈㅓㅁ ㅇㅡㅁㅅㅣㄱ']\n"
     ]
    }
   ],
   "source": [
    "if __name__ == \"__main__\":\n",
    "    test = ['사람들이 모르는데 진짜 유명해졌으면 하는 일본 편의점 음식']\n",
    "    #test = ['사람들이 모르는데 진짜 유명해졌으면 하는 일본 편의점 음식 일본 미니스톱 아이스 果実いちご氷 세상사람들 이것 먹어보세요 유유 위에는 달달한 바닐라 아이스고 밑에는 얼린 딸기에 연유가 뿌려져', '아이스의오락시간 아이스 오락시간 과연 누가 아이스의 유연성 왕일지', '오 오랫만에 아이스 돌체라떼 맛있겠다 Starbucks in 부산광역시 Busan', '맛집탐험대 나를 놀라게한 커피 TERAROSA TERAROSA 테라로사 날씨 냉커피 덥다 맛 맛집 사장님 서정점 아메리카노 아이스 아이스커피 양평 좋다 카페 커피 커피향 커피향기 향기 홍보', '로렉스 아이스 다이아 고씨쥬얼리 명품시계 금 화이트 골드 화이트골드', '새벽까지 비가 오더니 아침이 되니 또다시 무더위 아침부터 아아로 마셔요 늦더위 아이스 커피향 태안펜션그람피하우스', '얼음활용법 얼음 아이스 생활꿀팁 경기도경제과학진흥원 GBSA 집에 보관해둔 얼음을 생활 곳곳에서 알뜰하게 활용하는 방법을', '광주 낮보단 더운 하늘마당 어디간거니 이 밤분위기 비타 아이스 들이마시고 있음 광주광역시 문화전당 문화전당하늘공원 여행스타그램 광주여행 그래도 덥다그램 gwangju tripstagram hanulmadang 하늘 마당', '월 주차 신상 입고되었습니다 카메라 안경 빵 튜브잔 토끼 아이스 햄스터 물개 병아리 모찌 포켓몬스터 디즈니프린세스 짱구 스밋코구라시 케이프 맥주잔 게임기 도검난무 건담 가챠폰 피규어 미니어쳐 홍대 상수역 로렌스길', '집에서도 만들 있는 나만의 아이스크림 제조법']\n",
    "    a = decompose_text(test)\n",
    "    #print(a)\n",
    "    #print(\"가나다ABc 으음...EHshldk\".lower())\n",
    "    b = remove_alpha(a)\n",
    "    print(b)"
   ]
  },
  {
   "cell_type": "code",
   "execution_count": 111,
   "metadata": {
    "scrolled": true
   },
   "outputs": [
    {
     "name": "stdout",
     "output_type": "stream",
     "text": [
      "['아이스가', '아이스를', '아이스만', '아이스의', '아이스로', '아이스도', '팝니다', '빙두']\n",
      "----------------------------------------------------------------------------------------------------\n",
      "['아이스가 아이스를 아이스만 아이스의 아이스로 아이스도 팝니다 빙두 ']\n",
      "----------------------------------------------------------------------------------------------------\n",
      "['아이스가 아이스를 아이스만 아이스의 아이스로 아이스도 팝니다 빙두']\n",
      "----------------------------------------------------------------------------------------------------\n",
      ">>형태소 지정<<\n",
      "['아이스', '아이스', '아이스', '아이스', '아이스', '아이스', '팝', '빙']\n",
      "----------------------------------------------------------------------------------------------------\n",
      ">>모든 형태소<<\n",
      "[('아이스', 'NNG'), ('가', 'JKS'), ('아이스', 'NNG'), ('를', 'JKO'), ('아이스', 'NNG'), ('만', 'JX'), ('아이스', 'NNG'), ('의', 'JKG'), ('아이스', 'NNG'), ('로', 'JKB'), ('아이스', 'NNG'), ('도', 'JX'), ('팝', 'NNG'), ('니', 'JC'), ('다', 'MAG'), ('빙', 'NNG'), ('두', 'JX')]\n",
      "----------------------------------------------------------------------------------------------------\n",
      "It is composed\n",
      "['아이스가 아이스를 아이스만 아이스의 아이스로 아이스도 팝니다 빙두']\n",
      "----------------------------------------------------------------------------------------------------\n",
      "it is decomposed\n",
      "['ㅇㅏㅇㅣㅅㅡㄱㅏ ㅇㅏㅇㅣㅅㅡㄹㅡㄹ ㅇㅏㅇㅣㅅㅡㅁㅏㄴ ㅇㅏㅇㅣㅅㅡㅇㅢ ㅇㅏㅇㅣㅅㅡㄹㅗ ㅇㅏㅇㅣㅅㅡㄷㅗ ㅍㅏㅂㄴㅣㄷㅏ ㅂㅣㅇㄷㅜ']\n"
     ]
    }
   ],
   "source": [
    "if __name__ == \"__main__\":\n",
    "    sample = '''아이스가 아이스를 아이스만 아이스의 아이스로 아이스도 팝니다 빙두'''\n",
    "    print(sample.split())\n",
    "    sample1 = change([sample.split()])\n",
    "    \n",
    "    print(\"-\"*100)\n",
    "    print(sample1)\n",
    "    print(\"-\"*100)\n",
    "    #print(re_sent(sample1))\n",
    "    s = []\n",
    "    for i in sample1:\n",
    "        s1 = []\n",
    "        for j in i.split():\n",
    "            if j != \" \":\n",
    "                s1.append(j)\n",
    "        s.append(\" \".join(s1))\n",
    "    print(s)\n",
    "    print(\"-\"*100)\n",
    "    print(\">>형태소 지정<<\")\n",
    "    print(kimchi(s[0]))\n",
    "    print(\"-\"*100)\n",
    "    print(\">>모든 형태소<<\")\n",
    "    print(kimchi(s[0],option = 1))\n",
    "    print(\"-\"*100)\n",
    "    print(\"It is composed\")\n",
    "    print(compose_text(s))\n",
    "    print(\"-\"*100)\n",
    "    print(\"it is decomposed\")\n",
    "    print(decompose_text(s))"
   ]
  }
 ],
 "metadata": {
  "kernelspec": {
   "display_name": "Python 3",
   "language": "python",
   "name": "python3"
  },
  "language_info": {
   "codemirror_mode": {
    "name": "ipython",
    "version": 3
   },
   "file_extension": ".py",
   "mimetype": "text/x-python",
   "name": "python",
   "nbconvert_exporter": "python",
   "pygments_lexer": "ipython3",
   "version": "3.7.3"
  }
 },
 "nbformat": 4,
 "nbformat_minor": 2
}
